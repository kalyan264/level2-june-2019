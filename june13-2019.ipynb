{
 "cells": [
  {
   "cell_type": "code",
   "execution_count": 2,
   "metadata": {},
   "outputs": [],
   "source": [
    "#function to calculate the factorial of a given number\n",
    "def factorial(n):\n",
    "    res=0\n",
    "    for i in range(1,n):\n",
    "        res=res*i\n",
    "    return\n",
    "factorial(5)\n",
    "            "
   ]
  },
  {
   "cell_type": "code",
   "execution_count": 3,
   "metadata": {},
   "outputs": [
    {
     "data": {
      "text/plain": [
       "46"
      ]
     },
     "execution_count": 3,
     "metadata": {},
     "output_type": "execute_result"
    }
   ],
   "source": [
    "#factorial of given number\n",
    "def factorial(n):\n",
    "    res=1\n",
    "    for i in range(2,n):\n",
    "        res=res+n*i\n",
    "    return res\n",
    "factorial(5)"
   ]
  },
  {
   "cell_type": "code",
   "execution_count": 42,
   "metadata": {},
   "outputs": [
    {
     "data": {
      "text/plain": [
       "5.0"
      ]
     },
     "execution_count": 42,
     "metadata": {},
     "output_type": "execute_result"
    }
   ],
   "source": [
    "def primeavg(n1,n2):\n",
    "    sum=0\n",
    "    count=0\n",
    "    for i in range(n1,n2):\n",
    "        if(i%2==0):\n",
    "            count=count+1\n",
    "            sum=sum+i\n",
    "    return sum/count\n",
    "primeavg(1,10)"
   ]
  },
  {
   "cell_type": "code",
   "execution_count": 41,
   "metadata": {},
   "outputs": [
    {
     "name": "stdout",
     "output_type": "stream",
     "text": [
      "6 28 496 "
     ]
    }
   ],
   "source": [
    "#perfect numbers\n",
    "def perfect(n):\n",
    "    for j in range(1,n+1):\n",
    "        s=0\n",
    "        for i in range(1,j):\n",
    "            if(j%i==0):\n",
    "                s=s+i\n",
    "        if j==s:\n",
    "            print(j,end=\" \")\n",
    "perfect(1000)"
   ]
  },
  {
   "cell_type": "code",
   "execution_count": 4,
   "metadata": {},
   "outputs": [
    {
     "data": {
      "text/plain": [
       "730"
      ]
     },
     "execution_count": 4,
     "metadata": {},
     "output_type": "execute_result"
    }
   ],
   "source": [
    "#list of leap years\n",
    "def leapyear(year):\n",
    "    if(year%400==0 or(year%100!=0 and year%4==0)):\n",
    "        return True\n",
    "    return False\n",
    "def generateleapyears(startyear,endyear):\n",
    "    for i in range(startyear,endyear+1):\n",
    "        if leapyear(i):\n",
    "             print(i, end=\" \")\n",
    "    return\n",
    "def noofdays(start,end):\n",
    "    sum=0\n",
    "    for i in range(start,end+1):\n",
    "        if leapyear(i):\n",
    "            sum=sum+366\n",
    "        else:\n",
    "            sum=sum+365\n",
    "    return sum\n",
    "noofdays(2014,2015)\n",
    "\n",
    "    \n",
    "\n",
    "        "
   ]
  },
  {
   "cell_type": "code",
   "execution_count": 5,
   "metadata": {},
   "outputs": [
    {
     "name": "stdout",
     "output_type": "stream",
     "text": [
      "8521\n",
      "204504\n"
     ]
    }
   ],
   "source": [
    "import datetime\n",
    "\n",
    "x = datetime.datetime(1975, 11, 1)\n",
    " \n",
    "y= datetime.datetime(1999, 3, 1)\n",
    "\n",
    "diff=y-x\n",
    "\n",
    "\n",
    "days=diff.days\n",
    "print(str(days))\n",
    "\n",
    "hours = 24*days\n",
    "print (str(hours))\n"
   ]
  },
  {
   "cell_type": "code",
   "execution_count": 6,
   "metadata": {},
   "outputs": [
    {
     "data": {
      "text/plain": [
       "True"
      ]
     },
     "execution_count": 6,
     "metadata": {},
     "output_type": "execute_result"
    }
   ],
   "source": [
    "#armstrong\n",
    "def armstrong(n):\n",
    "    sm=0\n",
    "    temp=n\n",
    "    while(temp>0):\n",
    "        rem=temp%10\n",
    "        sm=sm+rem**3\n",
    "        temp=temp//10\n",
    "    if n==sm:\n",
    "        return True\n",
    "    else:\n",
    "        return False\n",
    "armstrong(370)"
   ]
  },
  {
   "cell_type": "code",
   "execution_count": null,
   "metadata": {},
   "outputs": [],
   "source": [
    "def numberofdaysmonth(month,year):\n",
    "    if month==2:\n",
    "        if leapyear(year):    \n",
    "             return 29\n",
    "        return 28\n",
    "    elif (month<=7 and month%2!=0) or (month>7 and month%2==0):\n",
    "        return 31\n",
    "    else:\n",
    "        return 30\n",
    "#numberofdaysmonth(4,2019)\n",
    "def daysinstartyear(startmonth,startyear):\n",
    "    days=0\n",
    "    for i in range(startmonth,13):\n",
    "        days=days+numberofdaysmonth(month,startyear)\n",
    "    return days\n",
    "def daysinendyear(endmonth,endyear):\n",
    "    days=0\n",
    "    for i in range(1,endmonth+1):\n",
    "        days=days+numberofdaysmonth(month,endyear)\n",
    "    return days\n",
    "def numberofhours(startmonth,startyear,endmonth,endyear):\n",
    "    days=0\n",
    "    days=days+daysistartyear(startmonth,startyear)\n",
    "    days=days+dasyinendyear(endmonth,endyear)\n",
    "    if endyear-startyear==2:   #\n",
    "        days=days+numberofdays(startyear+1,startyear+1)\n",
    "    elif endyear-startyear>2:\n",
    "        days=days+numberofdays(startyear+1,endyear-1)\n",
    "    return 24*days\n",
    "numberofhours(11,1975,3,1999)"
   ]
  }
 ],
 "metadata": {
  "kernelspec": {
   "display_name": "Python 3",
   "language": "python",
   "name": "python3"
  },
  "language_info": {
   "codemirror_mode": {
    "name": "ipython",
    "version": 3
   },
   "file_extension": ".py",
   "mimetype": "text/x-python",
   "name": "python",
   "nbconvert_exporter": "python",
   "pygments_lexer": "ipython3",
   "version": "3.7.3"
  }
 },
 "nbformat": 4,
 "nbformat_minor": 2
}
