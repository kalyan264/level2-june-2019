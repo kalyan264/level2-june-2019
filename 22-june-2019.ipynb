{
 "cells": [
  {
   "cell_type": "markdown",
   "metadata": {},
   "source": [
    "### Day objectives:\n",
    "  - File handling\n",
    "      - basic file data processing\n",
    "          -accessing and modifing file\n",
    "  - character count\n",
    "  - line count\n",
    "  - file size\n",
    "  - word count\n",
    "  - unique word count"
   ]
  },
  {
   "cell_type": "code",
   "execution_count": null,
   "metadata": {},
   "outputs": [],
   "source": [
    "#read a file- file should exists(Read mode)\n",
    "#write to (a file- Existing(Append mode) or\n",
    "def readfile(filepath):\n",
    "    with open(filepath,'r') as f:\n",
    "        f=f.read()\n",
    "    return f\n",
    "filepath=\"datafile/contact.txt\"\n",
    "readfile(filepath)"
   ]
  },
  {
   "cell_type": "code",
   "execution_count": null,
   "metadata": {},
   "outputs": [],
   "source": [
    "n=int(input())\n",
    "for num in range(n):  \n",
    "   if num > 1:  \n",
    "       for i in range(2,num):  \n",
    "           if (num % i) == 0:  \n",
    "               break  \n",
    "       else:  \n",
    "           print(num)  "
   ]
  },
  {
   "cell_type": "code",
   "execution_count": 14,
   "metadata": {},
   "outputs": [
    {
     "name": "stdout",
     "output_type": "stream",
     "text": [
      "52\n"
     ]
    }
   ],
   "source": [
    "#characters count \n",
    "def charactercount(filepath):\n",
    "    with open(filepath,'r') as f:\n",
    "        f=f.read()\n",
    "        c=0\n",
    "        for i in f:\n",
    "            c=c+1\n",
    "        print(c)\n",
    "filepath=\"datafile/contact.txt\"\n",
    "charactercount(filepath)"
   ]
  },
  {
   "cell_type": "code",
   "execution_count": 13,
   "metadata": {},
   "outputs": [
    {
     "name": "stdout",
     "output_type": "stream",
     "text": [
      "208\n"
     ]
    }
   ],
   "source": [
    "#size\n",
    "def size(filepath):\n",
    "    with open(filepath,'r') as f:\n",
    "        f=f.read()\n",
    "        c=0\n",
    "        for i in f:\n",
    "            c=c+1\n",
    "        print(c*4)\n",
    "filepath=\"datafile/contact.txt\"\n",
    "size(filepath)"
   ]
  },
  {
   "cell_type": "code",
   "execution_count": 12,
   "metadata": {},
   "outputs": [
    {
     "name": "stdout",
     "output_type": "stream",
     "text": [
      "['kalyan', 'kalyan', 'pavan', 'pavan', 'rohit', '\\nsharma', 'samba', 'sachin']\n",
      "rohit\n",
      "\n",
      "sharma\n",
      "samba\n",
      "sachin\n"
     ]
    }
   ],
   "source": [
    "#unique words\n",
    "def uniquevalue(filepath):\n",
    "    with open(filepath,'r') as f:\n",
    "        f=f.read()\n",
    "        l=list(f.split(\" \"))\n",
    "        print(l)\n",
    "        for i in l:\n",
    "            if l.count(i)==1:\n",
    "                print(i)\n",
    "filepath=\"datafile/contact.txt\"\n",
    "uniquevalue(filepath)"
   ]
  },
  {
   "cell_type": "code",
   "execution_count": 11,
   "metadata": {},
   "outputs": [
    {
     "name": "stdout",
     "output_type": "stream",
     "text": [
      "5\n",
      "3\n"
     ]
    },
    {
     "data": {
      "text/plain": [
       "8"
      ]
     },
     "execution_count": 11,
     "metadata": {},
     "output_type": "execute_result"
    }
   ],
   "source": [
    "#words count\n",
    "def wordcount(filepath):\n",
    "    with open(filepath,'r') as f:\n",
    "        res=0;\n",
    "        for line in f:\n",
    "            print(len(line.split()))\n",
    "            res+=len(line.split());\n",
    "        return res\n",
    "filepath=\"datafile/contact.txt\"\n",
    "wordcount(filepath)"
   ]
  },
  {
   "cell_type": "code",
   "execution_count": 10,
   "metadata": {},
   "outputs": [
    {
     "name": "stdout",
     "output_type": "stream",
     "text": [
      "2\n"
     ]
    }
   ],
   "source": [
    "def lines(filepath):\n",
    "    with open(filepath,'r') as f:\n",
    "        f=f.readlines()\n",
    "        print(len(f))\n",
    "filepath=\"datafile/contact.txt\"\n",
    "lines(filepath)\n",
    "    "
   ]
  },
  {
   "cell_type": "code",
   "execution_count": null,
   "metadata": {},
   "outputs": [],
   "source": [
    "n=int(input())\n",
    "a=[n]\n",
    "for i in range(n\n",
    "    "
   ]
  },
  {
   "cell_type": "code",
   "execution_count": null,
   "metadata": {},
   "outputs": [],
   "source": [
    "\n",
    "a=list(map(int,input().split()))\n",
    "n=int(input())\n",
    "for i in range(n):\n",
    "     one=int(input())\n",
    "for i in a:\n",
    "    if i==one:\n",
    "        print(a.count(i))\n",
    "    else:\n",
    "        print(\"not present\")\n",
    "    "
   ]
  },
  {
   "cell_type": "code",
   "execution_count": 5,
   "metadata": {},
   "outputs": [
    {
     "name": "stdout",
     "output_type": "stream",
     "text": [
      "1 2 1 2 4 5\n",
      "{1: 2, 2: 2, 4: 1, 5: 1}\n"
     ]
    }
   ],
   "source": [
    "l=list(map(int,input().split()))\n",
    "d={}\n",
    "for i in l:\n",
    "    d[i]=l.count(i)\n",
    "print(d)\n",
    "    "
   ]
  },
  {
   "cell_type": "code",
   "execution_count": 19,
   "metadata": {},
   "outputs": [
    {
     "name": "stdout",
     "output_type": "stream",
     "text": [
      "12\n"
     ]
    }
   ],
   "source": [
    "a=[1,2,3,5]\n",
    "b=[2,4,6,7]\n",
    "c=[]\n",
    "for i in range(4):\n",
    "    c=a[i]+b[i]\n",
    "    #print(i)\n",
    "print(c)"
   ]
  },
  {
   "cell_type": "code",
   "execution_count": 2,
   "metadata": {},
   "outputs": [],
   "source": [
    "a=[1,2,3,5]\n",
    "b=[2,4,6,7]\n",
    "c=[]\n"
   ]
  },
  {
   "cell_type": "code",
   "execution_count": 32,
   "metadata": {},
   "outputs": [
    {
     "data": {
      "text/plain": [
       "['kalyan', 'kalyan', 'pavan', 'pavan', 'rohit', 'sharma', 'samba', 'sachin']"
      ]
     },
     "execution_count": 32,
     "metadata": {},
     "output_type": "execute_result"
    }
   ],
   "source": [
    "#function to read a file into alist of lines\n",
    "#each element in the list is one line in the file\n",
    "def readfiletolist(filepath):\n",
    "    with open(filepath,\"r\") as f:\n",
    "        filedata=f.read()\n",
    "        lines=filedata.split()\n",
    "    return lines\n",
    "filepath=\"datafile/contact.txt\"\n",
    "readfiletolist(filepath)"
   ]
  },
  {
   "cell_type": "code",
   "execution_count": 29,
   "metadata": {},
   "outputs": [
    {
     "data": {
      "text/plain": [
       "[]"
      ]
     },
     "execution_count": 29,
     "metadata": {},
     "output_type": "execute_result"
    }
   ],
   "source": [
    "def readfiletolist(filepath):\n",
    "    with open(filepath,\"r\") as f:\n",
    "        filedata=f.read().split()\n",
    "        lines=[]\n",
    "        for i in f:\n",
    "            lines.append(i)\n",
    "    return lines\n",
    "filepath=\"datafile/contact.txt\"\n",
    "readfiletolist(filepath)"
   ]
  },
  {
   "cell_type": "code",
   "execution_count": 18,
   "metadata": {},
   "outputs": [
    {
     "name": "stdout",
     "output_type": "stream",
     "text": [
      "2\n"
     ]
    },
    {
     "ename": "NameError",
     "evalue": "name 're' is not defined",
     "output_type": "error",
     "traceback": [
      "\u001b[1;31m---------------------------------------------------------------------------\u001b[0m",
      "\u001b[1;31mNameError\u001b[0m                                 Traceback (most recent call last)",
      "\u001b[1;32m<ipython-input-18-59cc9b368dbe>\u001b[0m in \u001b[0;36m<module>\u001b[1;34m\u001b[0m\n\u001b[0;32m      5\u001b[0m     \u001b[0mcount\u001b[0m\u001b[1;33m=\u001b[0m\u001b[0mlen\u001b[0m\u001b[1;33m(\u001b[0m\u001b[0mre\u001b[0m\u001b[1;33m.\u001b[0m\u001b[0msplit\u001b[0m\u001b[1;33m(\u001b[0m\u001b[0mpattern\u001b[0m\u001b[1;33m,\u001b[0m\u001b[0mfiledata\u001b[0m\u001b[1;33m)\u001b[0m\u001b[1;33m)\u001b[0m\u001b[1;33m\u001b[0m\u001b[1;33m\u001b[0m\u001b[0m\n\u001b[0;32m      6\u001b[0m     \u001b[1;32mreturn\u001b[0m \u001b[0mcount\u001b[0m\u001b[1;33m\u001b[0m\u001b[1;33m\u001b[0m\u001b[0m\n\u001b[1;32m----> 7\u001b[1;33m \u001b[0mwordcount\u001b[0m\u001b[1;33m(\u001b[0m\u001b[1;33m)\u001b[0m\u001b[1;33m\u001b[0m\u001b[1;33m\u001b[0m\u001b[0m\n\u001b[0m",
      "\u001b[1;32m<ipython-input-18-59cc9b368dbe>\u001b[0m in \u001b[0;36mwordcount\u001b[1;34m()\u001b[0m\n\u001b[0;32m      3\u001b[0m     \u001b[0mpattern\u001b[0m\u001b[1;33m=\u001b[0m\u001b[1;34m\"[\\n]\"\u001b[0m\u001b[1;33m\u001b[0m\u001b[1;33m\u001b[0m\u001b[0m\n\u001b[0;32m      4\u001b[0m     \u001b[0mfiledata\u001b[0m\u001b[1;33m=\u001b[0m\u001b[0mreadfile\u001b[0m\u001b[1;33m(\u001b[0m\u001b[0mfilepath\u001b[0m\u001b[1;33m)\u001b[0m\u001b[1;33m\u001b[0m\u001b[1;33m\u001b[0m\u001b[0m\n\u001b[1;32m----> 5\u001b[1;33m     \u001b[0mcount\u001b[0m\u001b[1;33m=\u001b[0m\u001b[0mlen\u001b[0m\u001b[1;33m(\u001b[0m\u001b[0mre\u001b[0m\u001b[1;33m.\u001b[0m\u001b[0msplit\u001b[0m\u001b[1;33m(\u001b[0m\u001b[0mpattern\u001b[0m\u001b[1;33m,\u001b[0m\u001b[0mfiledata\u001b[0m\u001b[1;33m)\u001b[0m\u001b[1;33m)\u001b[0m\u001b[1;33m\u001b[0m\u001b[1;33m\u001b[0m\u001b[0m\n\u001b[0m\u001b[0;32m      6\u001b[0m     \u001b[1;32mreturn\u001b[0m \u001b[0mcount\u001b[0m\u001b[1;33m\u001b[0m\u001b[1;33m\u001b[0m\u001b[0m\n\u001b[0;32m      7\u001b[0m \u001b[0mwordcount\u001b[0m\u001b[1;33m(\u001b[0m\u001b[1;33m)\u001b[0m\u001b[1;33m\u001b[0m\u001b[1;33m\u001b[0m\u001b[0m\n",
      "\u001b[1;31mNameError\u001b[0m: name 're' is not defined"
     ]
    }
   ],
   "source": [
    "#function to count number of line in a file\n",
    "def wordcount():\n",
    "    pattern=\"[\\n]\"\n",
    "    filedata=readfile(filepath)\n",
    "    count=len(re.split(pattern,filedata))\n",
    "    return count\n",
    "wordcount()"
   ]
  },
  {
   "cell_type": "code",
   "execution_count": 39,
   "metadata": {},
   "outputs": [
    {
     "name": "stdout",
     "output_type": "stream",
     "text": [
      "['kalyan', 'kalyan', 'pavan', 'pavan', 'rohit', 'sharma', 'samba', 'sachin']\n"
     ]
    }
   ],
   "source": [
    "def unique(l):\n",
    "    \n",
    "    unique=[]\n",
    "   \n",
    "    for i in l:\n",
    "        if i in unique:\n",
    "            continue\n",
    "        else:\n",
    "            unique.append(i)\n",
    "    return unique\n",
    "l=readfiletolist(filepath)\n",
    "unique(l)\n",
    "print(l)   \n",
    "\n",
    "    "
   ]
  },
  {
   "cell_type": "code",
   "execution_count": 24,
   "metadata": {},
   "outputs": [
    {
     "data": {
      "text/plain": [
       "['kalyan kalyan pavan pavan rohit ', 'sharma samba sachin']"
      ]
     },
     "execution_count": 24,
     "metadata": {},
     "output_type": "execute_result"
    }
   ],
   "source": [
    "def readfiletolist(filepath):\n",
    "    with open(filepath,\"r\") as f:\n",
    "        filedata=f.read()\n",
    "        lines=filedata.split(\"\\n\")\n",
    "    return lines\n",
    "filepath=\"datafile/contact.txt\"\n",
    "readfiletolist(filepath)"
   ]
  },
  {
   "cell_type": "code",
   "execution_count": 40,
   "metadata": {},
   "outputs": [
    {
     "data": {
      "text/plain": [
       "{'kalyan': 2, 'pavan': 2, 'rohit': 1, 'sharma': 1, 'samba': 1, 'sachin': 1}"
      ]
     },
     "execution_count": 40,
     "metadata": {},
     "output_type": "execute_result"
    }
   ],
   "source": [
    "def occurancecount(l):\n",
    "    \n",
    "\n",
    "    d={}\n",
    "    for i in l:\n",
    "        if i in d:\n",
    "            d[i]+=1\n",
    "        else:\n",
    "            d[i]=1\n",
    "    return d\n",
    "l=readfiletolist(filepath)\n",
    "occurancecount(l)\n",
    "#print(l)   "
   ]
  },
  {
   "cell_type": "code",
   "execution_count": null,
   "metadata": {},
   "outputs": [],
   "source": []
  }
 ],
 "metadata": {
  "kernelspec": {
   "display_name": "Python 3",
   "language": "python",
   "name": "python3"
  },
  "language_info": {
   "codemirror_mode": {
    "name": "ipython",
    "version": 3
   },
   "file_extension": ".py",
   "mimetype": "text/x-python",
   "name": "python",
   "nbconvert_exporter": "python",
   "pygments_lexer": "ipython3",
   "version": "3.7.3"
  }
 },
 "nbformat": 4,
 "nbformat_minor": 2
}
