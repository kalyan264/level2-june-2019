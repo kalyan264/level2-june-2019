{
 "cells": [
  {
   "cell_type": "code",
   "execution_count": 2,
   "metadata": {},
   "outputs": [
    {
     "name": "stdout",
     "output_type": "stream",
     "text": [
      "1 2 1 2 1 3 4\n",
      "[1, 1, 1, 2, 2, 3, 4]\n",
      "3\n",
      "{0: 0, 1: 3, 2: 2, 3: 1, 4: 1, 5: 0, 6: 0}\n",
      "2 "
     ]
    }
   ],
   "source": [
    "#n=int(input())\n",
    "#kth largest number occurance \n",
    "#function to identify the element with highest frequncy in a list\n",
    "l=list(map(int,input().split()))#1 1 1 2 2 3 4 3\n",
    "l.sort()\n",
    "print(l)\n",
    "#kth=int(input())\n",
    "m=l[-kth]\n",
    "d={}\n",
    "for i in range(len(l)):\n",
    "    d[i]=l.count(i)\n",
    "print(d)\n",
    "print(d[m],end=\" \")\n",
    "\n",
    "    "
   ]
  },
  {
   "cell_type": "code",
   "execution_count": 9,
   "metadata": {},
   "outputs": [
    {
     "name": "stdout",
     "output_type": "stream",
     "text": [
      "[1, 2, 3, 4, 6]\n"
     ]
    }
   ],
   "source": [
    "l=[4,6,2,3,1]\n",
    "l.sort()\n",
    "print(l)"
   ]
  },
  {
   "cell_type": "code",
   "execution_count": 16,
   "metadata": {},
   "outputs": [
    {
     "name": "stdout",
     "output_type": "stream",
     "text": [
      "1 1 1 3 2 3 4\n",
      "[1, 2, 3, 4]\n",
      "3\n"
     ]
    }
   ],
   "source": [
    "def secondlargest(l):\n",
    "    #ocnverts list into unique list\n",
    "    uni=[]\n",
    "    for i in l:\n",
    "        if i not in uni:\n",
    "            uni.append(i)\n",
    "        else:\n",
    "            continue\n",
    "    uni.sort()\n",
    "    print(uni)\n",
    "    print(uni[-2])\n",
    "l=list(map(int,input().split()))\n",
    "secondlargest(l)"
   ]
  },
  {
   "cell_type": "code",
   "execution_count": 3,
   "metadata": {},
   "outputs": [
    {
     "name": "stdout",
     "output_type": "stream",
     "text": [
      "2 4 3 6 5 1\n",
      "[1, 2, 3, 4, 5, 6]\n",
      "1\n"
     ]
    }
   ],
   "source": [
    "#kth largest number \n",
    "#5th largest number\n",
    "#least largest number\n",
    "def leastlargest(l):\n",
    "    #ocnverts list into unique list\n",
    "    uni=[]\n",
    "    for i in l:\n",
    "        if i not in uni:\n",
    "            uni.append(i)\n",
    "        else:\n",
    "            continue\n",
    "    uni.sort()\n",
    "    print(uni)\n",
    "    print(min(uni))\n",
    "l=list(map(int,input().split()))\n",
    "leastlargest(l)"
   ]
  },
  {
   "cell_type": "code",
   "execution_count": 5,
   "metadata": {},
   "outputs": [
    {
     "name": "stdout",
     "output_type": "stream",
     "text": [
      "7 6 5 4 3 2 9\n",
      "[2, 3, 4, 5, 6, 7, 9]\n",
      "4\n"
     ]
    }
   ],
   "source": [
    "def fifthlargest(l):\n",
    "    #ocnverts list into unique list\n",
    "    uni=[]\n",
    "    for i in l:\n",
    "        if i not in uni:\n",
    "            uni.append(i)\n",
    "        else:\n",
    "            continue\n",
    "    uni.sort()\n",
    "    print(uni)\n",
    "    print(uni[-5])\n",
    "l=list(map(int,input().split()))\n",
    "fifthlargest(l)"
   ]
  },
  {
   "cell_type": "code",
   "execution_count": 9,
   "metadata": {},
   "outputs": [
    {
     "name": "stdout",
     "output_type": "stream",
     "text": [
      "2 3 4 6 71\n",
      "2\n"
     ]
    },
    {
     "data": {
      "text/plain": [
       "3"
      ]
     },
     "execution_count": 9,
     "metadata": {},
     "output_type": "execute_result"
    }
   ],
   "source": [
    "def kthsmallest(l,k):\n",
    "    #ocnverts list into unique list\n",
    "    uni=[]\n",
    "    for i in l:\n",
    "        if i not in uni:\n",
    "            uni.append(i)\n",
    "        else:\n",
    "            continue\n",
    "    uni=sorted(uni)\n",
    "    if len(uni)>=k:\n",
    "        return uni[k-1]\n",
    "    return -1\n",
    "l=list(map(int,input().split()))\n",
    "k=int(input())\n",
    "kthsmallest(l,k)"
   ]
  },
  {
   "cell_type": "code",
   "execution_count": 17,
   "metadata": {},
   "outputs": [
    {
     "name": "stdout",
     "output_type": "stream",
     "text": [
      "2 3 4 1 2 3 4 1 4\n",
      "[1, 1, 2, 2, 3, 3, 4, 4, 4]\n",
      "[0, 2, 2, 2, 3, 0, 0, 0, 0]\n",
      "3 4\n"
     ]
    }
   ],
   "source": [
    "#function to identify the element with highest frequncy in a list\n",
    "l=list(map(int,input().split()))#1 1 1 2 2 3 4 3\n",
    "l.sort()\n",
    "print(l)\n",
    "#kth=int(input())\n",
    "#m=l[-kth]\n",
    "d=[]\n",
    "for i in range(len(l)):\n",
    "    d.append(l.count(i))\n",
    "print(d)\n",
    "print(max(d),d.index(max(d)))\n",
    "#print(d[m],end=\" \")\n",
    "\n",
    "#print(d.index(max(d)),+\"appears\"+,max(d),+\"times\")\n",
    "    "
   ]
  },
  {
   "cell_type": "code",
   "execution_count": null,
   "metadata": {},
   "outputs": [],
   "source": [
    "# Function to identify the element with highest frequency in a list\n",
    "# If many elements have the highest frequency, return the smallest\n",
    "# highestfrequencyelement([1,2,3,9,8,7,3,4,2,1])\n",
    "\n",
    "def highestfrequencyelement(li):\n",
    "    # extract unique elements with frequency\n",
    "    unique={}\n",
    "    for n in li:\n",
    "        if n in unique:\n",
    "            unique[n]+=1\n",
    "        else:\n",
    "            unique[n] = 1\n",
    "            \n",
    "    # unique={1:2, 2:2, 3:2, 9:1, 8:1, 7:1, 4:1}            \n",
    "    # getting all the frequencies into a list\n",
    "    freq = unique.values()\n",
    "    maxfreq = max(freq)\n",
    "    maxfreqE=[]\n",
    "    \n",
    "# Identify the smallest number \n",
    "    for item in unique.items():\n",
    "        if item[1]==maxfreq:\n",
    "            maxfreqE.append(item[0])\n",
    "            \n",
    "#select the minimum from the keys with frequency\n",
    "    return min(maxfreqE) # minfreqE[k-1]\n",
    "highestfrequencyelement([1,2,3,9,8,7,3,4,2,1])\n",
    "        "
   ]
  },
  {
   "cell_type": "code",
   "execution_count": null,
   "metadata": {},
   "outputs": [],
   "source": [
    "#function to identify the element with lowest frequncy in a list\n",
    "l=list(map(int,input().split()))#1 1 1 2 2 3 4 3\n",
    "l.sort()\n",
    "print(l)\n",
    "#kth=int(input())\n",
    "#m=l[-kth]\n",
    "d=[]\n",
    "for i in range(len(l)):\n",
    "    d.append(l.count(i))\n",
    "print(d)\n",
    "print(min(d),d.index(min(d)))\n",
    "#print(d[m],end=\" \")"
   ]
  },
  {
   "cell_type": "code",
   "execution_count": null,
   "metadata": {},
   "outputs": [],
   "source": [
    "#function to identify the element with second largest frequncy in a list\n",
    "l=list(map(int,input().split()))#1 1 1 2 2 3 4 3  \n",
    "l.sort()\n",
    "print(l)\n",
    "#kth=int(input())\n",
    "#m=l[-kth]\n",
    "d=[]\n",
    "for i in range(len(l)):\n",
    "    d.append(l.count(i))\n",
    "print(d)\n",
    "print(d[-2],d.index(d[-2]))\n",
    "#print(d[m],end=\" \")"
   ]
  },
  {
   "cell_type": "code",
   "execution_count": 25,
   "metadata": {},
   "outputs": [
    {
     "name": "stdout",
     "output_type": "stream",
     "text": [
      "1 1 2 1 3 1 4 5\n",
      "[1, 1, 1, 1, 2, 3, 4, 5]\n",
      "{1: 4, 2: 1, 3: 1, 4: 1, 5: 1}\n",
      "[2, 3, 4, 5] dict_values([4, 1, 1, 1, 1])\n",
      "2\n"
     ]
    }
   ],
   "source": [
    "l=list(map(int,input().split()))#1 1 1 2 2 3 4 3\n",
    "l.sort()\n",
    "print(l)\n",
    "#kth=int(input())\n",
    "#m=l[-kth]\n",
    "d={}\n",
    "for i in l:\n",
    "    d[i]=l.count(i)\n",
    "print(d)\n",
    "val=d.values()\n",
    "m=min(val)\n",
    "keys=[key for (key,value) in d.items() if value==m]\n",
    "print(keys,val)\n",
    "if len(keys)!=1:\n",
    "    print(min(keys))\n",
    "\n",
    "#print(d.values())\n",
    "#print(d[m],end=\" \")\n"
   ]
  },
  {
   "cell_type": "code",
   "execution_count": 39,
   "metadata": {},
   "outputs": [
    {
     "data": {
      "text/plain": [
       "6"
      ]
     },
     "execution_count": 39,
     "metadata": {},
     "output_type": "execute_result"
    }
   ],
   "source": [
    "#[9,8,7,6,5,2,3,4,9,6,7,7,7,6,7,6],k=4-->2\n",
    "def khighestfrequency(s,k):\n",
    "    #unique cahracters with frequencies in dictionary\n",
    "    uni={}\n",
    "    for i in s:\n",
    "        if i not in uni:\n",
    "            uni[i]=1\n",
    "        else:\n",
    "            uni[i]=uni[i]+1\n",
    "    #return uni\n",
    "    #uni={9: 2, 8: 1, 7: 5, 6: 4, 5: 1, 2: 1, 3: 1, 4: 1}\n",
    "    #extract all unique frequencies in a list\n",
    "    unifre=[2,1,5,4]\n",
    "    unifre=[]\n",
    "    for value in uni.values():\n",
    "        if value not in unifre:\n",
    "            unifre.append(value)\n",
    "    unifre=sorted(unifre,reverse=True)\n",
    "    if len(unifre >= k:\n",
    "        kfreq=unifre[k-1]\n",
    "    else:\n",
    "        return -1\n",
    "    kfreq=unifre[k-1]\n",
    "    kfreqchar=[]\n",
    "    for item in uni.items():\n",
    "        if item[1]==kfreq:\n",
    "            kfreqchar.append(item[0])\n",
    "    return min(kfreqchar)\n",
    "with open(test.txt,\"r\") as f:\n",
    "    t=int(f.readline)\n",
    "    for i in range(t):\n",
    "        s=f.readline()\n",
    "        k=int(f.readline())\n",
    "        print(f.readline(s,k))\n",
    "        \n",
    "    \n",
    "khighestfrequency([9,8,7,6,5,2,3,4,9,6,7,7,7,6,7,6],2)"
   ]
  },
  {
   "cell_type": "code",
   "execution_count": null,
   "metadata": {},
   "outputs": [],
   "source": []
  },
  {
   "cell_type": "code",
   "execution_count": null,
   "metadata": {},
   "outputs": [],
   "source": []
  }
 ],
 "metadata": {
  "kernelspec": {
   "display_name": "Python 3",
   "language": "python",
   "name": "python3"
  },
  "language_info": {
   "codemirror_mode": {
    "name": "ipython",
    "version": 3
   },
   "file_extension": ".py",
   "mimetype": "text/x-python",
   "name": "python",
   "nbconvert_exporter": "python",
   "pygments_lexer": "ipython3",
   "version": "3.7.3"
  }
 },
 "nbformat": 4,
 "nbformat_minor": 2
}
