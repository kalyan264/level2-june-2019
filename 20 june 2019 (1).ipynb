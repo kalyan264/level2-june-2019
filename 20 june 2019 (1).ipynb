{
 "cells": [
  {
   "cell_type": "markdown",
   "metadata": {},
   "source": [
    "## day objectives:\n",
    "- Reguar expressions\n",
    "   - constructing regular expressions for variousuwe cases\n",
    "   - Regular expressions for`"
   ]
  },
  {
   "cell_type": "markdown",
   "metadata": {},
   "source": [
    "### regular expressions\n",
    "- pattern matching\n",
    "- symbolic Notation of a pattern\n",
    "    - pattern: format which repeats\n",
    "    - pattern(RE)  set of all values which matches that pattern\n",
    "- [0-9] ->> any digit between 0 to 9\n",
    "- [a-z] ->> any lower case alphabet\n",
    "- [2468] ->> all single digit multiples of 2\n",
    "- ^[0-9]{1}$ ->> only single digit numbers for one number, {n}->> n numbers\n",
    "- [1-9][0-9]*0$ --> all multiples of 10\n",
    "- [1-9][0-9]* [0 or 5]$ (__ ^[1-9]*[05]$ __)-->> all multiples of 5 \n",
    "- ^[1-9][0-9]{9} -->>all 10 digit numbers-\n",
    "- ^[6-9][0-9]{9}$ ->>validating phone number(india) starting with 9876- (^[6-9][0-9]{9}$|^[0][6-9][0-9]{9}$|^[+][9][1][6-9][0-9]{9}$)\n",
    "- [a-z0-9A-Z._]*[@][a-z or A-Z]*[.][a-z or A-Z]{3} ->>Email validation-  \n",
    "- [a-zA-Z0-9]*[@]*[a-z]*[.]*[ac]*[.in or[a-z]{3} ->> email validation including rgukt mail--> \n",
    "    \n",
    "- ^[a-z0-9][a-z|0-9_.]{4,14}[a-z0-9][@][a-z0-9]{3,18}[.][a-z]{2,4}$ -->>>  email validation with id length etc...\n",
    "- ^[a].*[z]$ any string of any length starting with 'a' and ending with 'z'\n",
    "\n",
    "    "
   ]
  },
  {
   "cell_type": "code",
   "execution_count": null,
   "metadata": {},
   "outputs": [],
   "source": [
    "#function to validate a phone number\n",
    "import re\n",
    "def phonenumvalidater(n):\n",
    "    a=\"^[6-9][0-9]{9}$|^[0][6-9][0-9]{9}$|^[+][9][1][6-9][0-9]{9}$\"\n",
    "    if re.match(a,str(n)):\n",
    "        #print(\"valid number\")\n",
    "        return True\n",
    "    else:\n",
    "        #print(\"invalid number\")\n",
    "        return False\n",
    "n=input()\n",
    "phonenumvalidater(n)"
   ]
  },
  {
   "cell_type": "code",
   "execution_count": null,
   "metadata": {},
   "outputs": [],
   "source": [
    "import re\n",
    "def emailvalidater(n):\n",
    "    a=\"^[a-z0-9][a-z|0-9_.]{4,14}[a-z0-9][@][a-z0-9]{3,18}[.][a-z]{2,4}\"\n",
    "    if re.match(a,str(n)):\n",
    "        #print(\"valid number\")\n",
    "        return True\n",
    "    else:\n",
    "        #print(\"invalid number\")\n",
    "        return False\n",
    "n=str(input())\n",
    "emailvalidater(n)"
   ]
  },
  {
   "cell_type": "code",
   "execution_count": null,
   "metadata": {},
   "outputs": [],
   "source": [
    "contacts = {\"name1\":[8297651907,\"pavanpardumedi@gmail.com\"],\"name2\":[9948184518,\"kalyanch@gmail.com\"]}\n"
   ]
  },
  {
   "cell_type": "code",
   "execution_count": null,
   "metadata": {},
   "outputs": [],
   "source": [
    "def addContact(name, phone,email):\n",
    "    #verify that the contact doesn't already exist\n",
    "    if name in contacts:\n",
    "        print(name,\"already exists\")\n",
    "    else:\n",
    "        if not phonenumvalidater(phone):\n",
    "            print(\"invalid number\")\n",
    "        if not emailvalidater(email):\n",
    "            print(\"invalid mail\")\n",
    "        li=[]\n",
    "        li.append(phone)\n",
    "        li.append(email)\n",
    "        contacts[name]=li\n",
    "        contacts.update(contacts)\n",
    "        \n",
    "        print(\"contact %s added\" %name)\n",
    "        \n",
    "  \n",
    "   \n",
    "addContact(\"pavan1\",\"9297651905\",\"pqavanism@gmail.com\")\n",
    "contacts\n",
    "\n",
    "    \n"
   ]
  },
  {
   "cell_type": "code",
   "execution_count": null,
   "metadata": {},
   "outputs": [],
   "source": [
    "def searchContacts(name):\n",
    "    if name in contacts:\n",
    "        print(name,\":\",contacts[name])\n",
    "    else:\n",
    "        print(\"%s does not exist\" %name)\n",
    "    return\n",
    "searchContacts(\"pavan2\")"
   ]
  },
  {
   "cell_type": "code",
   "execution_count": null,
   "metadata": {},
   "outputs": [],
   "source": [
    "def importContacts(new):\n",
    "    contacts.update(new)\n",
    "    print(len(new.keys()),\"added successfully\")\n",
    "new={\"name2\":[9701088016,\"pavanpardumedi@gmail.com\"],\"name3\":[9709319431,\"sriharu@gmail.com\"]}\n",
    "importContacts(new)\n",
    "contacts"
   ]
  },
  {
   "cell_type": "code",
   "execution_count": null,
   "metadata": {},
   "outputs": [],
   "source": [
    "def listallcontacts():\n",
    "    for contact, info in contacts.items():\n",
    "        print(contact,\"\\n\",\"phone :\",info[0],\"\\n\",\"email\",info[1])\n",
    "    return\n",
    "listallcontacts()\n",
    "    "
   ]
  },
  {
   "cell_type": "code",
   "execution_count": null,
   "metadata": {},
   "outputs": [],
   "source": [
    "# self work\n",
    "def edit contact(name,phone,email)"
   ]
  },
  {
   "cell_type": "markdown",
   "metadata": {},
   "source": [
    "### File Handling in Python\n",
    "\n",
    "File- document containing information residing on the permanant storage\n",
    "\n",
    "Types- text,pdf,csv etc\n",
    "\n",
    "channelling I/O data to files\n",
    "\n",
    "default I/O channels - keyboard / screen\n",
    "\n",
    "Change I/O channel to files for reading and writing\n",
    "\n",
    "read a file - Input from  file\n",
    "Write to a file - output to a file\n",
    "\n",
    "read / write a file - open(filename, mode)\n",
    "\n",
    "\n",
    "\n",
    "\n"
   ]
  },
  {
   "cell_type": "code",
   "execution_count": null,
   "metadata": {},
   "outputs": [],
   "source": [
    "#function to  read a file\n",
    "\n",
    "def readfile(filename):\n",
    "    f = open(filename,'r')\n",
    "    filedata = f.read()\n",
    "    f.close()\n",
    "    return filedata\n",
    "\n",
    "filename = 'datafiles/data.txt'\n",
    "filedata = readfile(filename)\n",
    "for line in filedata.split('\\n'):\n",
    "    print(line)\n",
    "def printfiledatalines(filename):\n",
    "    f =open(filename,'r')\n",
    "    for line in f:\n",
    "        print (line, end=\"\\t\")\n",
    "    return\n",
    "#printfiledatalines(filename)\n"
   ]
  },
  {
   "cell_type": "code",
   "execution_count": 89,
   "metadata": {},
   "outputs": [
    {
     "data": {
      "text/plain": [
       "'new data1'"
      ]
     },
     "execution_count": 89,
     "metadata": {},
     "output_type": "execute_result"
    }
   ],
   "source": [
    "#function to write data into a file\n",
    "def writeintofile(filename,filedata):\n",
    "    with open(filename,'w') as f:\n",
    "        f.write(filedata)\n",
    "    return\n",
    "filename='datafiles/data.txt'\n",
    "writeintofile(filename, \"new data1\")\n",
    "readfile(filename)"
   ]
  },
  {
   "cell_type": "code",
   "execution_count": 85,
   "metadata": {},
   "outputs": [],
   "source": [
    "#function to append data into a file\n",
    "def appenddatatofile(filename,filedata):\n",
    "    with open(filename,'a') as f:\n",
    "        f.write(filedata)\n",
    "    return\n",
    "filename='datafiles/data.txt'\n",
    "appenddatatofile(filename, \"new data2\\n\")\n",
    "#filedatalines(filename"
   ]
  },
  {
   "cell_type": "code",
   "execution_count": 112,
   "metadata": {},
   "outputs": [
    {
     "data": {
      "text/plain": [
       "'name3,name3,string,data,'"
      ]
     },
     "execution_count": 112,
     "metadata": {},
     "output_type": "execute_result"
    }
   ],
   "source": [
    "#function to append data into a file\n",
    "def appenddatatofile(filename,filedata):\n",
    "    with open(filename,'a') as f:\n",
    "        for line in filedata:\n",
    "            f.write(line+\",\")\n",
    "    return\n",
    "filename='datafiles/data.txt'\n",
    "filedata=[\"string\",\"data\"]\n",
    "appenddatatofile(filename,filedata)\n",
    "readfile(filename)\n"
   ]
  },
  {
   "cell_type": "code",
   "execution_count": 122,
   "metadata": {},
   "outputs": [
    {
     "name": "stdout",
     "output_type": "stream",
     "text": [
      "['name1', 8297651907, 'pavanpardumedi@gmail.com', 'name2', 9701088016, 'pavanpardumedi@gmail.com', 'pavan2', '9297651905', 'pqavanism@gmail.com', 'pavan1', '9297651905', 'pqavanism@gmail.com', 'name3', 9709319431, 'sriharu@gmail.com']\n"
     ]
    }
   ],
   "source": [
    "filedata=[]\n",
    "for name, details in contacts.items():\n",
    "    filedata.append(name)\n",
    "    filedata.append(details[0])\n",
    "    filedata.append(details[1])\n",
    "print(filedata)"
   ]
  },
  {
   "cell_type": "code",
   "execution_count": 109,
   "metadata": {},
   "outputs": [
    {
     "data": {
      "text/plain": [
       "['name3',\n",
       " 8297651907,\n",
       " 'pavanpardumedi@gmail.com',\n",
       " 'name3',\n",
       " 9701088016,\n",
       " 'pavanpardumedi@gmail.com',\n",
       " 'name3',\n",
       " '9297651905',\n",
       " 'pqavanism@gmail.com',\n",
       " 'name3',\n",
       " '9297651905',\n",
       " 'pqavanism@gmail.com',\n",
       " 'name3',\n",
       " 9709319431,\n",
       " 'sriharu@gmail.com']"
      ]
     },
     "execution_count": 109,
     "metadata": {},
     "output_type": "execute_result"
    }
   ],
   "source": [
    "filedata\n"
   ]
  },
  {
   "cell_type": "code",
   "execution_count": 123,
   "metadata": {},
   "outputs": [
    {
     "data": {
      "text/plain": [
       "'name1,8297651907,pavanpardumedi@gmail.com,\\nname2,9701088016,pavanpardumedi@gmail.com,\\npavan2,9297651905,pqavanism@gmail.com,\\npavan1,9297651905,pqavanism@gmail.com,\\nname3,9709319431,sriharu@gmail.com,\\n'"
      ]
     },
     "execution_count": 123,
     "metadata": {},
     "output_type": "execute_result"
    }
   ],
   "source": [
    "def appenddatatofile(filename,filedata):\n",
    "    with open(filename,'w') as f:\n",
    "        count=0\n",
    "        for line in filedata:\n",
    "            f.write(str(line)+\",\")\n",
    "            count+=1\n",
    "            if count%3==0:\n",
    "                f.write(\"\\n\")\n",
    "    return\n",
    "filename='datafiles/contact.txt'\n",
    "appenddatatofile(filename,filedata)\n",
    "readfile(filename)"
   ]
  },
  {
   "cell_type": "code",
   "execution_count": null,
   "metadata": {},
   "outputs": [],
   "source": []
  }
 ],
 "metadata": {
  "kernelspec": {
   "display_name": "Python 3",
   "language": "python",
   "name": "python3"
  },
  "language_info": {
   "codemirror_mode": {
    "name": "ipython",
    "version": 3
   },
   "file_extension": ".py",
   "mimetype": "text/x-python",
   "name": "python",
   "nbconvert_exporter": "python",
   "pygments_lexer": "ipython3",
   "version": "3.7.3"
  }
 },
 "nbformat": 4,
 "nbformat_minor": 2
}
