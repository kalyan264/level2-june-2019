{
 "cells": [
  {
   "cell_type": "code",
   "execution_count": 17,
   "metadata": {},
   "outputs": [
    {
     "name": "stdout",
     "output_type": "stream",
     "text": [
      "1 2 3\n",
      "1 2 4\n",
      "1 3 4\n",
      "2 3 4\n"
     ]
    }
   ],
   "source": [
    "#functions to print all combinations of pairs of inttigers in a unique list\n",
    "##[1,2,3]-->(1,2),(1,3),(2,3)--->3c2-->3!/((3-2)!*2!)\n",
    "#def combinations(l):\n",
    "l=[1,2,3,4]\n",
    "for i in range(len(l)):\n",
    "    c=[]\n",
    "    for j in range(i+1,len(l)): \n",
    "        #for k in range(j+1,len(l)):\n",
    "        #c.append(l[i]+l[j])\n",
    "            print(l[i],l[j])\n",
    "#def combinations(l)       "
   ]
  },
  {
   "cell_type": "code",
   "execution_count": 26,
   "metadata": {},
   "outputs": [
    {
     "name": "stdout",
     "output_type": "stream",
     "text": [
      "1 2 3\n",
      "1 2 4\n",
      "1 2 5\n",
      "1 3 4\n",
      "1 3 5\n",
      "1 4 5\n",
      "2 3 4\n",
      "2 3 5\n",
      "2 4 5\n",
      "3 4 5\n"
     ]
    }
   ],
   "source": [
    "def combinations2(l):\n",
    "  # l=[1,2,3,4,5]\n",
    "    for i in range(len(l)-2):\n",
    "        for j in range(i+1,len(l)-1):\n",
    "            for k in range(j+1,len(l)):\n",
    "                print(l[i], l[j], l[k])\n",
    "    return\n",
    "l=[1,2,3,4,5]\n",
    "combinations2(l)\n"
   ]
  },
  {
   "cell_type": "code",
   "execution_count": 1,
   "metadata": {},
   "outputs": [
    {
     "data": {
      "text/plain": [
       "[9, 8, 7, 6, 5, 4, 3, 2, 1]"
      ]
     },
     "execution_count": 1,
     "metadata": {},
     "output_type": "execute_result"
    }
   ],
   "source": [
    "def medium(l):\n",
    "    #li3=[[],li]]\n",
    "    count=0\n",
    "    while(True):\n",
    "        l3=differencepairs(l)\n",
    "        if l3[0]==l3[1]:\n",
    "            break\n",
    "   # if len(li3[0])>=k:\n",
    "    return sorted(l3[0],reverse=True)\n",
    "    #else:\n",
    "     #   return -1\n",
    "        \n",
    "    #return l3[0]\n",
    "\n",
    "def differencepairs(l):\n",
    "    cli=l[:]\n",
    "    newelements=[]\n",
    "    for i in range(len(l)-1):\n",
    "        for j in range(i+1,len(l)):\n",
    "            d=abs(l[i]-l[j])\n",
    "            if d not in l and d not in newelements:\n",
    "                newelements.append(d)\n",
    "    l.extend(newelements)\n",
    "    return [cli,l]\n",
    "    \n",
    "    \n",
    "l=[1,9,8]\n",
    "medium(l)"
   ]
  },
  {
   "cell_type": "code",
   "execution_count": 37,
   "metadata": {},
   "outputs": [
    {
     "name": "stdout",
     "output_type": "stream",
     "text": [
      "[1, 3, 2]\n",
      "2\n"
     ]
    }
   ],
   "source": [
    "l=[1,3]\n",
    "for i in range(len(l)-1):\n",
    "    for j in range(i+1,len(l)):\n",
    "        d=abs(l[i]-l[j])\n",
    "        if d not in l:\n",
    "            l.append(d)\n",
    "print(l)\n",
    "l.sort()\n",
    "print((l[-2]))\n",
    "l=[1,3]"
   ]
  },
  {
   "cell_type": "code",
   "execution_count": 1,
   "metadata": {},
   "outputs": [
    {
     "data": {
      "text/plain": [
       "8"
      ]
     },
     "execution_count": 1,
     "metadata": {},
     "output_type": "execute_result"
    }
   ],
   "source": [
    "def res(l,k):\n",
    "    return max(l)-(k-1)\n",
    "res([1,9,8],2)"
   ]
  },
  {
   "cell_type": "code",
   "execution_count": null,
   "metadata": {},
   "outputs": [],
   "source": [
    "a=[1,2,3]\n",
    "b=1,3,2\n",
    "a=b.copy()\n",
    "a=b[:]\n",
    "a=b   #data referenncong\n",
    "\n"
   ]
  },
  {
   "cell_type": "code",
   "execution_count": 6,
   "metadata": {},
   "outputs": [
    {
     "name": "stdout",
     "output_type": "stream",
     "text": [
      "1 2 3 4 5 6 7 {1, 2, 3, 4, 5, 6, 7, 8, 9}\n",
      "{1, 2, 3, 4, 5, 6, 7, 8, 9}\n"
     ]
    }
   ],
   "source": [
    "a={1,2,3,4,5,6,6}\n",
    "a.add(7)#adding a single element to a set\n",
    "for i in a:\n",
    "    print(i,end=\" \")\n",
    "b={7,8,9}\n",
    "a.update(b)\n",
    "print(a)\n",
    "c={2,3,4}\n",
    "a.discard(c)\n",
    "print(a)"
   ]
  },
  {
   "cell_type": "code",
   "execution_count": 8,
   "metadata": {},
   "outputs": [
    {
     "data": {
      "text/plain": [
       "{1, 4, 6, 7}"
      ]
     },
     "execution_count": 8,
     "metadata": {},
     "output_type": "execute_result"
    }
   ],
   "source": [
    "a={1,2,3,4,5,6,7}\n",
    "b={7,6,8,4,23,1}\n",
    "a.union(b)\n",
    "a.intersection(b)"
   ]
  },
  {
   "cell_type": "code",
   "execution_count": 9,
   "metadata": {},
   "outputs": [
    {
     "data": {
      "text/plain": [
       "True"
      ]
     },
     "execution_count": 9,
     "metadata": {},
     "output_type": "execute_result"
    }
   ],
   "source": [
    "a={1,2,3,4}\n",
    "b={5,6,7,8}\n",
    "a.isdisjoint(b)"
   ]
  },
  {
   "cell_type": "code",
   "execution_count": 10,
   "metadata": {},
   "outputs": [
    {
     "data": {
      "text/plain": [
       "{1, 2, 3, 4}"
      ]
     },
     "execution_count": 10,
     "metadata": {},
     "output_type": "execute_result"
    }
   ],
   "source": [
    "a-b  #----> all elements of a which are not in b"
   ]
  },
  {
   "cell_type": "code",
   "execution_count": 12,
   "metadata": {},
   "outputs": [
    {
     "data": {
      "text/plain": [
       "[1, 2, 3, 4, 6, 7, 8, 9, 78]"
      ]
     },
     "execution_count": 12,
     "metadata": {},
     "output_type": "execute_result"
    }
   ],
   "source": [
    "a={9,7,4,6,2,78,3,1,8}\n",
    "sorted(a)"
   ]
  },
  {
   "cell_type": "code",
   "execution_count": 15,
   "metadata": {},
   "outputs": [
    {
     "data": {
      "text/plain": [
       "{2, 4, 9}"
      ]
     },
     "execution_count": 15,
     "metadata": {},
     "output_type": "execute_result"
    }
   ],
   "source": [
    "a={1,2,6,5,3,8}\n",
    "b={5,8,3,1,4,6,8,9,4}\n",
    "a^b    # elements either in a or in b"
   ]
  },
  {
   "cell_type": "code",
   "execution_count": 16,
   "metadata": {},
   "outputs": [
    {
     "data": {
      "text/plain": [
       "set()"
      ]
     },
     "execution_count": 16,
     "metadata": {},
     "output_type": "execute_result"
    }
   ],
   "source": [
    "d=set()\n",
    "d"
   ]
  },
  {
   "cell_type": "code",
   "execution_count": 18,
   "metadata": {},
   "outputs": [
    {
     "data": {
      "text/plain": [
       "{1, 2, 3, 4}"
      ]
     },
     "execution_count": 18,
     "metadata": {},
     "output_type": "execute_result"
    }
   ],
   "source": [
    "l=[1,2,3,4,2,1,2,3,4]\n",
    "u=set(l)\n",
    "u"
   ]
  },
  {
   "cell_type": "markdown",
   "metadata": {},
   "source": [
    "##### procedural : C\n",
    "#### Object Oriented : Java\n",
    "#### Scripting : PHP,Python Java Script,Shell\n",
    "#### Functional : Python, Haskel , Scala\n",
    "#### Logic : Prolog, Lisp"
   ]
  },
  {
   "cell_type": "markdown",
   "metadata": {},
   "source": [
    "# list Comprehensions"
   ]
  },
  {
   "cell_type": "code",
   "execution_count": 24,
   "metadata": {},
   "outputs": [
    {
     "name": "stdout",
     "output_type": "stream",
     "text": [
      "[0, 1, 2, 3, 4, 5, 6, 7, 8, 9]\n"
     ]
    }
   ],
   "source": [
    "#list of N natural numbers\n",
    "n=10\n",
    "l=[]\n",
    "for i in range(n):\n",
    "    l.append(i)\n",
    "print(l)"
   ]
  },
  {
   "cell_type": "code",
   "execution_count": 25,
   "metadata": {},
   "outputs": [
    {
     "name": "stdout",
     "output_type": "stream",
     "text": [
      "[1, 2, 3, 4, 5, 6, 7, 8, 9, 10]\n"
     ]
    }
   ],
   "source": [
    "l=[i for i in range(1,11)]\n",
    "print(l)"
   ]
  },
  {
   "cell_type": "code",
   "execution_count": 28,
   "metadata": {},
   "outputs": [
    {
     "data": {
      "text/plain": [
       "[1, 8, 27, 64, 125, 216, 343, 512, 729, 1000]"
      ]
     },
     "execution_count": 28,
     "metadata": {},
     "output_type": "execute_result"
    }
   ],
   "source": [
    "#apply list comprehension to store the cubes the n natural numbers\n",
    "l=[i**3 for i in range(1,11)]\n",
    "l"
   ]
  },
  {
   "cell_type": "code",
   "execution_count": 32,
   "metadata": {},
   "outputs": [
    {
     "data": {
      "text/plain": [
       "120"
      ]
     },
     "execution_count": 32,
     "metadata": {},
     "output_type": "execute_result"
    }
   ],
   "source": [
    "#function to calculate the factorial\n",
    "def factorial(n):\n",
    "    sum=1\n",
    "    for i in range(1,n+1):\n",
    "        sum=sum*i\n",
    "    return sum\n",
    "factorial(5)\n",
    "        "
   ]
  },
  {
   "cell_type": "code",
   "execution_count": 34,
   "metadata": {},
   "outputs": [
    {
     "data": {
      "text/plain": [
       "120"
      ]
     },
     "execution_count": 34,
     "metadata": {},
     "output_type": "execute_result"
    }
   ],
   "source": [
    "def factorial(n):\n",
    "    if n==0 or n==1:\n",
    "        return 1\n",
    "    return n*factorial(n-1)\n",
    "factorial(5)"
   ]
  },
  {
   "cell_type": "code",
   "execution_count": 36,
   "metadata": {},
   "outputs": [
    {
     "name": "stdout",
     "output_type": "stream",
     "text": [
      "[1, 2, 6, 24, 120]\n"
     ]
    }
   ],
   "source": [
    "#apply list comprehension to calculate \n",
    "#factorial of n natural numbers\n",
    "n=5\n",
    "#l=list(map(int,input().split()))\n",
    "factorialList=[factorial(i) for i in range(1,n+1)]\n",
    "print(factorialList)"
   ]
  },
  {
   "cell_type": "code",
   "execution_count": 46,
   "metadata": {},
   "outputs": [
    {
     "name": "stdout",
     "output_type": "stream",
     "text": [
      "15\n"
     ]
    }
   ],
   "source": [
    "def csum(l):\n",
    "    \n",
    "    l=[1,2,3,4,5]\n",
    "    s=0\n",
    "    for i in l:\n",
    "        s=s+i\n",
    "    print(s)\n",
    "csum(l)"
   ]
  },
  {
   "cell_type": "code",
   "execution_count": 55,
   "metadata": {},
   "outputs": [
    {
     "name": "stdout",
     "output_type": "stream",
     "text": [
      "[1, 3, 6, 10, 15]\n"
     ]
    }
   ],
   "source": [
    "n=5\n",
    "cumsum=[sum(range(1,i+1)) for i in range(1,n+1)]\n",
    "print(cumsum)"
   ]
  },
  {
   "cell_type": "code",
   "execution_count": 1,
   "metadata": {},
   "outputs": [
    {
     "name": "stdout",
     "output_type": "stream",
     "text": [
      "[1972, 1976, 1980, 1984, 1988, 1992, 1996, 2000, 2004, 2008, 2012, 2016]\n"
     ]
    }
   ],
   "source": [
    "#list comprehension to store\n",
    "#only leap years in a given time period\n",
    "st=1970\n",
    "et=2019\n",
    "leapyears=[i for i in range(st,et+1)\n",
    "           if(i%400==0 or (i%100!=0 and i%4==0))]\n",
    "print(leapyears)\n",
    "#for i in range(st,et+1):\n"
   ]
  },
  {
   "cell_type": "code",
   "execution_count": 66,
   "metadata": {},
   "outputs": [
    {
     "data": {
      "text/plain": [
       "[None, None, None]"
      ]
     },
     "execution_count": 66,
     "metadata": {},
     "output_type": "execute_result"
    }
   ],
   "source": [
    "l=[1,2,3,2,1]\n",
    "unique=[]\n",
    "k=[]\n",
    "#unique=[i for i in range(0,len(l)-1) if sorted(l)[i] !=sorted(l)[i+1]]\n",
    "unique=[k.append(i) for i in l if i not in k ]\n",
    "unique"
   ]
  },
  {
   "cell_type": "markdown",
   "metadata": {},
   "source": [
    "### Iterators\n",
    "iterable - Strings,Tupoles, Sets, Dictionaries\n",
    "Convert Iterable to Iterator --> iter()\n",
    "\n",
    "for loop:\n",
    "\n",
    "\n",
    "Iterator:\n",
    "\n"
   ]
  },
  {
   "cell_type": "code",
   "execution_count": 34,
   "metadata": {},
   "outputs": [
    {
     "name": "stdout",
     "output_type": "stream",
     "text": [
      "p\n",
      "<str_iterator object at 0x000001D185C967F0>\n"
     ]
    }
   ],
   "source": [
    "\n",
    "it=iter(\"python\")\n",
    "#next(it)\n",
    "#next(it)\n",
    "#for i in it:\n",
    " #   print(next(it))\n",
    "#print('1: ')\n",
    "print(next(it))\n",
    "print((it))\n",
    "#print('\\n')\n",
    "#print('2: ')"
   ]
  },
  {
   "cell_type": "markdown",
   "metadata": {},
   "source": [
    "### Generator\n",
    "\n",
    " Generator is Function\n",
    " "
   ]
  },
  {
   "cell_type": "code",
   "execution_count": 11,
   "metadata": {},
   "outputs": [
    {
     "data": {
      "text/plain": [
       "3"
      ]
     },
     "execution_count": 11,
     "metadata": {},
     "output_type": "execute_result"
    }
   ],
   "source": [
    "#n=1\n",
    "def generator():\n",
    "    n=3\n",
    "    yield n\n",
    "    \n",
    "    #n=n**3\n",
    "    #yield n\n",
    "    \n",
    "    n=n**3\n",
    "    yield n\n",
    "a=generator()\n",
    "next(a)\n",
    "#next(a)\n",
    "#next(a)\n",
    "#print(a)"
   ]
  },
  {
   "cell_type": "code",
   "execution_count": 22,
   "metadata": {},
   "outputs": [
    {
     "data": {
      "text/plain": [
       "2417851639229258349412352"
      ]
     },
     "execution_count": 22,
     "metadata": {},
     "output_type": "execute_result"
    }
   ],
   "source": [
    "def generator():\n",
    "    n=2\n",
    "    while True:\n",
    "        n**=3\n",
    "        yield n\n",
    "a=generator()\n",
    "next(a)\n",
    "b=next(a)**2\n",
    "b*=next(a)\n",
    "next(a)"
   ]
  },
  {
   "cell_type": "code",
   "execution_count": 33,
   "metadata": {},
   "outputs": [
    {
     "name": "stdout",
     "output_type": "stream",
     "text": [
      "[(6, 1), (5, 4), (2, 3), (1, 2)]\n",
      "[(1, 2), (2, 3), (5, 4), (6, 1)]\n"
     ]
    }
   ],
   "source": [
    "d={1:2,2:3,5:4,6:1}\n",
    "d.items()\n",
    "v=sorted(d.items(),reverse=True)\n",
    "print(v)\n",
    "b=sorted(d.items())\n",
    "print(b)\n",
    "# for i in d:\n",
    "#     d[i]==4\n",
    "# print(d[4])\n",
    "    "
   ]
  },
  {
   "cell_type": "code",
   "execution_count": null,
   "metadata": {},
   "outputs": [],
   "source": []
  }
 ],
 "metadata": {
  "kernelspec": {
   "display_name": "Python 3",
   "language": "python",
   "name": "python3"
  },
  "language_info": {
   "codemirror_mode": {
    "name": "ipython",
    "version": 3
   },
   "file_extension": ".py",
   "mimetype": "text/x-python",
   "name": "python",
   "nbconvert_exporter": "python",
   "pygments_lexer": "ipython3",
   "version": "3.7.3"
  }
 },
 "nbformat": 4,
 "nbformat_minor": 2
}
