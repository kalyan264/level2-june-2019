{
 "cells": [
  {
   "cell_type": "code",
   "execution_count": null,
   "metadata": {},
   "outputs": [],
   "source": [
    "#prime numbers \n",
    "def prime(n):\n",
    "    for i in range(2,n):\n",
    "        if(n%i==0):\n",
    "            return False\n",
    "    return True\n",
    "n=int(input())\n",
    "l=[]\n",
    "for i in range(2,n+1):\n",
    "    if(prime(i)):\n",
    "        l.append(str(i))\n",
    "print(\" \".join(l))"
   ]
  },
  {
   "cell_type": "code",
   "execution_count": null,
   "metadata": {},
   "outputs": [],
   "source": [
    "#palindrome\n",
    "s=input().lower()\n",
    "rev=s[::-1]\n",
    "if s==rev:\n",
    "    print(\"YES\")\n",
    "else:\n",
    "    print(\"NO\")\n"
   ]
  },
  {
   "cell_type": "code",
   "execution_count": null,
   "metadata": {},
   "outputs": [],
   "source": [
    "#count Divisor\n",
    "l=list(map(int,input().split()))\n",
    "c=0\n",
    "for i in range(l[0],l[1]+1):\n",
    "    if(i%l[2]==0):\n",
    "        c=c+1\n",
    "print(c)"
   ]
  },
  {
   "cell_type": "code",
   "execution_count": null,
   "metadata": {},
   "outputs": [],
   "source": [
    "#Factorial\n",
    "def factrial(n):\n",
    "    c=1\n",
    "    for i in range(1,n+1):\n",
    "        c=c*i\n",
    "    return c\n",
    "n=int(input())\n",
    "factrial(n)\n",
    "    "
   ]
  },
  {
   "cell_type": "code",
   "execution_count": null,
   "metadata": {},
   "outputs": [],
   "source": [
    "#Toggle string\n",
    "S=input()\n",
    "S=S.swapcase()\n",
    "print(S)\n"
   ]
  },
  {
   "cell_type": "code",
   "execution_count": null,
   "metadata": {},
   "outputs": [],
   "source": [
    "#s=\"abc\"\n",
    "#a=list(s)\n",
    "#s.isupper()\n",
    "#s.islower()\n",
    "#print(a)\n",
    "#s.upper(a[1])\n",
    "def togglestring(s):\n",
    "    s=list(s)\n",
    "    t=[]\n",
    "    for i in s:\n",
    "        if i.islower():\n",
    "            t.append(i.upper())\n",
    "        else:\n",
    "            t.append(i.lower())\n",
    "    return \"\".join(t)\n",
    "s=str(input())\n",
    "togglestring(s)"
   ]
  },
  {
   "cell_type": "code",
   "execution_count": null,
   "metadata": {},
   "outputs": [],
   "source": [
    "#char sum\n",
    "s=input()\n",
    "res=0;\n",
    "for i in range(len(s)):\n",
    "    res+=ord(s[i])-96;\n",
    "print(res)\n",
    "    \n"
   ]
  },
  {
   "cell_type": "code",
   "execution_count": null,
   "metadata": {},
   "outputs": [],
   "source": [
    "ord(\"a\")"
   ]
  },
  {
   "cell_type": "code",
   "execution_count": null,
   "metadata": {},
   "outputs": [],
   "source": [
    "#two string\n",
    "n=int(input());\n",
    "for i in range(n):\n",
    "    l=input().split();\n",
    "    s1=list(l[0]);\n",
    "    s2=list(l[1]);\n",
    "    s1.sort()\n",
    "    s2.sort()\n",
    "    if(s1==s2):\n",
    "        print(\"YES\");\n",
    "    else:\n",
    "        print(\"NO\")"
   ]
  },
  {
   "cell_type": "code",
   "execution_count": null,
   "metadata": {},
   "outputs": [],
   "source": [
    "#play woth numbers\n",
    "def playwithnumbers(sa,lb,ub):\n",
    "    \n",
    "    if lb == 1:\n",
    "        s = sa[ub-1]\n",
    "    else:\n",
    "        s= sa[ub-1]-sa[lb-2]\n",
    "        \n",
    "    print(s // ((ub-lb)+1))\n",
    "i = input().split()\n",
    " \n",
    "n = int(i[0])\n",
    "q = int(i[1])\n",
    " \n",
    "arr = input()\n",
    " \n",
    "l = list(map(int,arr.split()))\n",
    " \n",
    "sa = []\n",
    " \n",
    "sum = 0 \n",
    " \n",
    "for i in l:\n",
    "    sum = sum+i\n",
    "    sa.append(sum)\n",
    "    \n",
    "    \n",
    "for j in range(q):\n",
    "    s=input().split()\n",
    "    \n",
    "    lb = int(s[0])\n",
    "    ub = int(s[1])\n",
    " \n",
    "    playwithnumbers(sa,lb,ub)"
   ]
  },
  {
   "cell_type": "markdown",
   "metadata": {},
   "source": [
    "## problem:Duration"
   ]
  },
  {
   "cell_type": "code",
   "execution_count": null,
   "metadata": {},
   "outputs": [],
   "source": [
    "s=\"1 44 2 14\"\n",
    "def minutesdifference(s):\n",
    "    s=s.split()\n",
    "    sh=int(s[0])\n",
    "    sm=int(s[1])\n",
    "    eh=int(s[2])\n",
    "    em=int(s[3])\n",
    "    startminutes=(sh*60)+sm\n",
    "    endminutes=(eh*60)+em\n",
    "    return endminutes-startminutes\n",
    "def outputtimeformat(minutes):\n",
    "    #converts minutes to hh mm\n",
    "    hh=minutes//60\n",
    "    mm=minutes%60\n",
    "    print(hh,mm)\n",
    "    return\n",
    "minutes=minutesdifference(s)\n",
    "outputtimeformat(minutes)\n",
    "\n",
    "\n"
   ]
  },
  {
   "cell_type": "code",
   "execution_count": null,
   "metadata": {},
   "outputs": [],
   "source": []
  }
 ],
 "metadata": {
  "kernelspec": {
   "display_name": "Python 3",
   "language": "python",
   "name": "python3"
  },
  "language_info": {
   "codemirror_mode": {
    "name": "ipython",
    "version": 3
   },
   "file_extension": ".py",
   "mimetype": "text/x-python",
   "name": "python",
   "nbconvert_exporter": "python",
   "pygments_lexer": "ipython3",
   "version": "3.7.3"
  }
 },
 "nbformat": 4,
 "nbformat_minor": 2
}
