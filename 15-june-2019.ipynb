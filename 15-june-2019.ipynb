{
 "cells": [
  {
   "cell_type": "code",
   "execution_count": 1,
   "metadata": {},
   "outputs": [
    {
     "name": "stdout",
     "output_type": "stream",
     "text": [
      "10\n",
      "2 3 5 7\n"
     ]
    }
   ],
   "source": [
    "#prime numbers \n",
    "def prime(n):\n",
    "    for i in range(2,n):\n",
    "        if(n%i==0):\n",
    "            return False\n",
    "    return True\n",
    "n=int(input())\n",
    "l=[]\n",
    "for i in range(2,n+1):\n",
    "    if(prime(i)):\n",
    "        l.append(str(i))\n",
    "print(\" \".join(l))"
   ]
  },
  {
   "cell_type": "code",
   "execution_count": 3,
   "metadata": {},
   "outputs": [
    {
     "name": "stdout",
     "output_type": "stream",
     "text": [
      "abba\n",
      "YES\n"
     ]
    }
   ],
   "source": [
    "#palindrome\n",
    "s=input().lower()\n",
    "rev=s[::-1]\n",
    "if s==rev:\n",
    "    print(\"YES\")\n",
    "else:\n",
    "    print(\"NO\")\n"
   ]
  },
  {
   "cell_type": "code",
   "execution_count": 4,
   "metadata": {},
   "outputs": [
    {
     "name": "stdout",
     "output_type": "stream",
     "text": [
      "1 10 1\n",
      "10\n"
     ]
    }
   ],
   "source": [
    "#count Divisor\n",
    "l=list(map(int,input().split()))\n",
    "c=0\n",
    "for i in range(l[0],l[1]+1):\n",
    "    if(i%l[2]==0):\n",
    "        c=c+1\n",
    "print(c)"
   ]
  },
  {
   "cell_type": "code",
   "execution_count": 9,
   "metadata": {},
   "outputs": [
    {
     "name": "stdout",
     "output_type": "stream",
     "text": [
      "5\n"
     ]
    },
    {
     "data": {
      "text/plain": [
       "120"
      ]
     },
     "execution_count": 9,
     "metadata": {},
     "output_type": "execute_result"
    }
   ],
   "source": [
    "#Factorial\n",
    "def factrial(n):\n",
    "    c=1\n",
    "    for i in range(1,n+1):\n",
    "        c=c*i\n",
    "    return c\n",
    "n=int(input())\n",
    "factrial(n)\n",
    "    "
   ]
  },
  {
   "cell_type": "code",
   "execution_count": 12,
   "metadata": {},
   "outputs": [
    {
     "name": "stdout",
     "output_type": "stream",
     "text": [
      "aba\n",
      "ABA\n"
     ]
    }
   ],
   "source": [
    "#Toggle string\n",
    "S=input()\n",
    "S=S.swapcase()\n",
    "print(S)\n"
   ]
  },
  {
   "cell_type": "code",
   "execution_count": 4,
   "metadata": {},
   "outputs": [
    {
     "name": "stdout",
     "output_type": "stream",
     "text": [
      "RoHIt\n"
     ]
    },
    {
     "data": {
      "text/plain": [
       "'rOhiT'"
      ]
     },
     "execution_count": 4,
     "metadata": {},
     "output_type": "execute_result"
    }
   ],
   "source": [
    "#s=\"abc\"\n",
    "#a=list(s)\n",
    "#s.isupper()\n",
    "#s.islower()\n",
    "#print(a)\n",
    "#s.upper(a[1])\n",
    "def togglestring(s):\n",
    "    s=list(s)\n",
    "    t=[]\n",
    "    for i in s:\n",
    "        if i.islower():\n",
    "            t.append(i.upper())\n",
    "        else:\n",
    "            t.append(i.lower())\n",
    "    return \"\".join(t)\n",
    "s=str(input())\n",
    "togglestring(s)"
   ]
  },
  {
   "cell_type": "code",
   "execution_count": 17,
   "metadata": {},
   "outputs": [
    {
     "name": "stdout",
     "output_type": "stream",
     "text": [
      "as\n",
      "20\n"
     ]
    }
   ],
   "source": [
    "#char sum\n",
    "s=input()\n",
    "res=0;\n",
    "for i in range(len(s)):\n",
    "    res+=ord(s[i])-96;\n",
    "print(res)\n",
    "    \n"
   ]
  },
  {
   "cell_type": "code",
   "execution_count": 6,
   "metadata": {},
   "outputs": [
    {
     "data": {
      "text/plain": [
       "97"
      ]
     },
     "execution_count": 6,
     "metadata": {},
     "output_type": "execute_result"
    }
   ],
   "source": [
    "ord(\"a\")"
   ]
  },
  {
   "cell_type": "code",
   "execution_count": 8,
   "metadata": {},
   "outputs": [
    {
     "name": "stdout",
     "output_type": "stream",
     "text": [
      "3\n",
      "kalyan kylana\n",
      "YES\n",
      "ksyal jsysa\n",
      "NO\n",
      "rohit hitro\n",
      "YES\n"
     ]
    }
   ],
   "source": [
    "#two string\n",
    "n=int(input());\n",
    "for i in range(n):\n",
    "    l=input().split();\n",
    "    s1=list(l[0]);\n",
    "    s2=list(l[1]);\n",
    "    s1.sort()\n",
    "    s2.sort()\n",
    "    if(s1==s2):\n",
    "        print(\"YES\");\n",
    "    else:\n",
    "        print(\"NO\")"
   ]
  },
  {
   "cell_type": "code",
   "execution_count": 19,
   "metadata": {},
   "outputs": [
    {
     "name": "stdout",
     "output_type": "stream",
     "text": [
      "1 2 3 4 5\n",
      "3\n",
      "1 3\n"
     ]
    },
    {
     "ename": "IndexError",
     "evalue": "list index out of range",
     "output_type": "error",
     "traceback": [
      "\u001b[1;31m---------------------------------------------------------------------------\u001b[0m",
      "\u001b[1;31mIndexError\u001b[0m                                Traceback (most recent call last)",
      "\u001b[1;32m<ipython-input-19-e0a839f9f9ed>\u001b[0m in \u001b[0;36m<module>\u001b[1;34m\u001b[0m\n\u001b[0;32m     32\u001b[0m     \u001b[0mub\u001b[0m \u001b[1;33m=\u001b[0m \u001b[0mint\u001b[0m\u001b[1;33m(\u001b[0m\u001b[0ms\u001b[0m\u001b[1;33m[\u001b[0m\u001b[1;36m1\u001b[0m\u001b[1;33m]\u001b[0m\u001b[1;33m)\u001b[0m\u001b[1;33m\u001b[0m\u001b[1;33m\u001b[0m\u001b[0m\n\u001b[0;32m     33\u001b[0m \u001b[1;33m\u001b[0m\u001b[0m\n\u001b[1;32m---> 34\u001b[1;33m     \u001b[0mplaywithnumbers\u001b[0m\u001b[1;33m(\u001b[0m\u001b[0msa\u001b[0m\u001b[1;33m,\u001b[0m\u001b[0mlb\u001b[0m\u001b[1;33m,\u001b[0m\u001b[0mub\u001b[0m\u001b[1;33m)\u001b[0m\u001b[1;33m\u001b[0m\u001b[1;33m\u001b[0m\u001b[0m\n\u001b[0m",
      "\u001b[1;32m<ipython-input-19-e0a839f9f9ed>\u001b[0m in \u001b[0;36mplaywithnumbers\u001b[1;34m(sa, lb, ub)\u001b[0m\n\u001b[0;32m      3\u001b[0m \u001b[1;33m\u001b[0m\u001b[0m\n\u001b[0;32m      4\u001b[0m     \u001b[1;32mif\u001b[0m \u001b[0mlb\u001b[0m \u001b[1;33m==\u001b[0m \u001b[1;36m1\u001b[0m\u001b[1;33m:\u001b[0m\u001b[1;33m\u001b[0m\u001b[1;33m\u001b[0m\u001b[0m\n\u001b[1;32m----> 5\u001b[1;33m         \u001b[0ms\u001b[0m \u001b[1;33m=\u001b[0m \u001b[0msa\u001b[0m\u001b[1;33m[\u001b[0m\u001b[0mub\u001b[0m\u001b[1;33m-\u001b[0m\u001b[1;36m1\u001b[0m\u001b[1;33m]\u001b[0m\u001b[1;33m\u001b[0m\u001b[1;33m\u001b[0m\u001b[0m\n\u001b[0m\u001b[0;32m      6\u001b[0m     \u001b[1;32melse\u001b[0m\u001b[1;33m:\u001b[0m\u001b[1;33m\u001b[0m\u001b[1;33m\u001b[0m\u001b[0m\n\u001b[0;32m      7\u001b[0m         \u001b[0ms\u001b[0m\u001b[1;33m=\u001b[0m \u001b[0msa\u001b[0m\u001b[1;33m[\u001b[0m\u001b[0mub\u001b[0m\u001b[1;33m-\u001b[0m\u001b[1;36m1\u001b[0m\u001b[1;33m]\u001b[0m\u001b[1;33m-\u001b[0m\u001b[0msa\u001b[0m\u001b[1;33m[\u001b[0m\u001b[0mlb\u001b[0m\u001b[1;33m-\u001b[0m\u001b[1;36m2\u001b[0m\u001b[1;33m]\u001b[0m\u001b[1;33m\u001b[0m\u001b[1;33m\u001b[0m\u001b[0m\n",
      "\u001b[1;31mIndexError\u001b[0m: list index out of range"
     ]
    }
   ],
   "source": [
    "#play woth numbers\n",
    "def playwithnumbers(sa,lb,ub):\n",
    "    \n",
    "    if lb == 1:\n",
    "        s = sa[ub-1]\n",
    "    else:\n",
    "        s= sa[ub-1]-sa[lb-2]\n",
    "        \n",
    "    print(s // ((ub-lb)+1))\n",
    "i = input().split()\n",
    " \n",
    "n = int(i[0])\n",
    "q = int(i[1])\n",
    " \n",
    "arr = input()\n",
    " \n",
    "l = list(map(int,arr.split()))\n",
    " \n",
    "sa = []\n",
    " \n",
    "sum = 0 \n",
    " \n",
    "for i in l:\n",
    "    sum = sum+i\n",
    "    sa.append(sum)\n",
    "    \n",
    "    \n",
    "for j in range(q):\n",
    "    s=input().split()\n",
    "    \n",
    "    lb = int(s[0])\n",
    "    ub = int(s[1])\n",
    " \n",
    "    playwithnumbers(sa,lb,ub)"
   ]
  },
  {
   "cell_type": "markdown",
   "metadata": {},
   "source": [
    "## problem:Duration"
   ]
  },
  {
   "cell_type": "code",
   "execution_count": 13,
   "metadata": {},
   "outputs": [
    {
     "name": "stdout",
     "output_type": "stream",
     "text": [
      "0 30\n"
     ]
    }
   ],
   "source": [
    "s=\"1 44 2 14\"\n",
    "def minutesdifference(s):\n",
    "    s=s.split()\n",
    "    sh=int(s[0])\n",
    "    sm=int(s[1])\n",
    "    eh=int(s[2])\n",
    "    em=int(s[3])\n",
    "    startminutes=(sh*60)+sm\n",
    "    endminutes=(eh*60)+em\n",
    "    return endminutes-startminutes\n",
    "def outputtimeformat(minutes):\n",
    "    #converts minutes to hh mm\n",
    "    hh=minutes//60\n",
    "    mm=minutes%60\n",
    "    print(hh,mm)\n",
    "    return\n",
    "minutes=minutesdifference(s)\n",
    "outputtimeformat(minutes)\n",
    "\n",
    "\n"
   ]
  },
  {
   "cell_type": "code",
   "execution_count": null,
   "metadata": {},
   "outputs": [],
   "source": []
  }
 ],
 "metadata": {
  "kernelspec": {
   "display_name": "Python 3",
   "language": "python",
   "name": "python3"
  },
  "language_info": {
   "codemirror_mode": {
    "name": "ipython",
    "version": 3
   },
   "file_extension": ".py",
   "mimetype": "text/x-python",
   "name": "python",
   "nbconvert_exporter": "python",
   "pygments_lexer": "ipython3",
   "version": "3.7.3"
  }
 },
 "nbformat": 4,
 "nbformat_minor": 2
}
