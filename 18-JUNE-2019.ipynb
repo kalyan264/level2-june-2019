{
 "cells": [
  {
   "cell_type": "code",
   "execution_count": null,
   "metadata": {},
   "outputs": [],
   "source": [
    "import sympy\n",
    "def numberOfPrimeFactors(n):\n",
    "    c=0\n",
    "    for i in range(2,n):\n",
    "        #print(sympy.isprime(i))\n",
    "        if(sympy.isprime(i) and n%i==0):\n",
    "            c=c+1\n",
    "    return c\n",
    "def isSpecialNumber(n,p):\n",
    "    if(numberOfPrimeFactors(n)>=p):\n",
    "        return True\n",
    "    else:\n",
    "        return False\n",
    "if __name__==\"__main__\":\n",
    "    p=int(input())\n",
    "    for _ in range(int(input())):\n",
    "        if(isSpecialNumber(int(input()),p)):\n",
    "            print(\"YES\")\n",
    "        else:\n",
    "            print(\"NO\")\n"
   ]
  },
  {
   "cell_type": "code",
   "execution_count": null,
   "metadata": {},
   "outputs": [],
   "source": [
    "#special number\n",
    "def isprime(n):\n",
    "   \n",
    "    for i in range(2,n//2):\n",
    "        if(n%i==0):\n",
    "            return False\n",
    "    return True\n",
    "def nooffactors(n):\n",
    "    c=0\n",
    "    for i in range(2,n):\n",
    "        if(isprime(i) and n%i==0):\n",
    "            c=c+1\n",
    "    return c\n",
    "def specialnumber(n,p):\n",
    "    if (p<=nooffactors(n)):\n",
    "        return \" it is special number \"\n",
    "    else:\n",
    "        return \" it is not a special number\"\n",
    "\n",
    "print(specialnumber(30,3))\n"
   ]
  },
  {
   "cell_type": "code",
   "execution_count": null,
   "metadata": {},
   "outputs": [],
   "source": [
    "#highest remaider\n",
    "def highestremainder(n):\n",
    "    hr=0\n",
    "    v=n\n",
    "    for i in range(n-1,n//2+1,-1):\n",
    "        r=n%i\n",
    "        if r>hr:\n",
    "            hr=r\n",
    "            v=i\n",
    "    print(v)\n",
    "    return \n",
    "highestremainder(5)"
   ]
  },
  {
   "cell_type": "code",
   "execution_count": null,
   "metadata": {},
   "outputs": [],
   "source": [
    "#play woth numbers\n",
    "def playwithnumbers(sa,lb,ub):\n",
    "    \n",
    "    if lb == 1:\n",
    "        s = sa[ub-1]\n",
    "    else:\n",
    "        s= sa[ub-1]-sa[lb-2]\n",
    "        \n",
    "    print(s // ((ub-lb)+1))\n",
    "i = input().split()\n",
    " \n",
    "n = int(i[0])\n",
    "q = int(i[1])\n",
    " \n",
    "arr = input()\n",
    " \n",
    "l = list(map(int,arr.split()))\n",
    " \n",
    "sa = []\n",
    " \n",
    "sum = 0 \n",
    " \n",
    "for i in l:\n",
    "    sum = sum+i\n",
    "    sa.append(sum)\n",
    "    \n",
    "    \n",
    "for j in range(q):\n",
    "    s=input().split()\n",
    "    \n",
    "    lb = int(s[0])\n",
    "    ub = int(s[1])\n",
    " \n",
    "    playwithnumbers(sa,lb,ub)"
   ]
  },
  {
   "cell_type": "markdown",
   "metadata": {},
   "source": [
    "## Tuples"
   ]
  },
  {
   "cell_type": "code",
   "execution_count": null,
   "metadata": {},
   "outputs": [],
   "source": [
    "#difference between lists and touples\n",
    "# 1. lists: are mutable ---can be changed anf modified\n",
    "#-----used to access ,modify,add,delete\n",
    "2.#touples: are immutable ----cannot be changed\n",
    "#------used to access the data onnly\n",
    "#------all slicing work\n"
   ]
  },
  {
   "cell_type": "code",
   "execution_count": null,
   "metadata": {},
   "outputs": [],
   "source": [
    "t1=(1,2,8,6,0)\n",
    "t1[3] #accessing the fourth element\n",
    "t1[8:]#accessing all elements\n",
    "t1[len(t1)//2:]#accessing elements from middle element"
   ]
  },
  {
   "cell_type": "markdown",
   "metadata": {},
   "source": [
    "## Dictionaries\n",
    "* it works on the concept of set \n",
    "* unique data\n",
    "    * keys,values\n",
    "    * key is the unique identifier for a value </br>\n",
    "    * value is data that can be accessed with a key </br>"
   ]
  },
  {
   "cell_type": "code",
   "execution_count": null,
   "metadata": {},
   "outputs": [],
   "source": [
    "d1={\"k1\":\"value1\", \"k2\":\"value2\"}\n",
    "d1[\"k2\"]#accessing the value with key \"k2\"\n",
    "d1.keys()# returns list of all keys\n",
    "d1.values()#returns the of all values\n",
    "d1.items()#returns list of tuples of keys and values\n",
    "d1[\"k3\"] = \"value3\"\n",
    "\n",
    "\n",
    "d1[\"k3\"] = \"value4\" #updating element\n",
    "d1.pop(\"k3\")#removing an element\n",
    "\"k2\" in d1"
   ]
  },
  {
   "cell_type": "markdown",
   "metadata": {},
   "source": [
    "### CONTACTS APPLICATION\n",
    "* Add contact\n",
    "* search for the contact\n",
    "* list all contacts\n",
    "* modify contact\n",
    "* remove contact\n"
   ]
  },
  {
   "cell_type": "code",
   "execution_count": null,
   "metadata": {},
   "outputs": [],
   "source": [
    "contact={}\n",
    "def addcontact(name,phone):\n",
    "    #verify the contact deosnot already exist\n",
    "    if name not in contact:\n",
    "        contact[name]=phone\n",
    "    else:\n",
    "        print(\"contact %s already exists\"% name)\n",
    "    return\n",
    "addcontact(\"name1\", \"1234506789\")\n",
    "    "
   ]
  },
  {
   "cell_type": "code",
   "execution_count": 4,
   "metadata": {},
   "outputs": [
    {
     "name": "stdout",
     "output_type": "stream",
     "text": [
      "name10 does not exists\n"
     ]
    }
   ],
   "source": [
    "def searchcontacts(name):\n",
    "    if name in contact:\n",
    "        print(name,\":\",contact[name])\n",
    "    else:\n",
    "        print(\"%s does not exists\" % name)\n",
    "    return\n",
    "searchcontacts('name10')"
   ]
  },
  {
   "cell_type": "code",
   "execution_count": 6,
   "metadata": {},
   "outputs": [
    {
     "data": {
      "text/plain": [
       "{'name1': '1234506789'}"
      ]
     },
     "execution_count": 6,
     "metadata": {},
     "output_type": "execute_result"
    }
   ],
   "source": [
    "contact"
   ]
  },
  {
   "cell_type": "code",
   "execution_count": null,
   "metadata": {},
   "outputs": [],
   "source": [
    "# New contacts is given as a dictionary\n",
    "# Merge them with exicting contacts\n",
    "def importContacts(newContacts):\n",
    "    contacts.update(newContacts)\n",
    "    print(len(newContacts.keys()),\"contacts added successfully\")\n",
    "    return\n",
    "newContacts={\"name\":678988976,\"name1\":844348933}\n",
    "importContacts(newContacts)\n",
    "\n"
   ]
  },
  {
   "cell_type": "code",
   "execution_count": null,
   "metadata": {},
   "outputs": [],
   "source": [
    "#modify\n",
    "\n",
    "def modify(newcontacts):\n",
    "    contacts.update(newcontacts)\n",
    "    print(newcontacts.keys(),\"contacts modified successfully\")\n",
    "    return\n",
    "newcontacts={\"name\":12345687,\"name1\":7731123456229}\n",
    "modify(newcontacts)"
   ]
  },
  {
   "cell_type": "code",
   "execution_count": null,
   "metadata": {},
   "outputs": [],
   "source": [
    "#pop\n",
    "def is_pop(newcontacts):\n",
    "    contacts.pop(list(newcontacts.keys())[0])\n",
    "    print(newcontacts.keys(),\"removed successfully\")\n",
    "    return\n",
    "newcontacts={\"name\":87654323456}\n",
    "is_pop(newcontacts)"
   ]
  },
  {
   "cell_type": "markdown",
   "metadata": {},
   "source": [
    "## packages and modules\n",
    "  * packages ** -> Collection of modules(python file.py) and subpackages\n",
    "  * module ** --> A single python file containing functions\n",
    "  * packages->subpackages->functions"
   ]
  },
  {
   "cell_type": "code",
   "execution_count": 9,
   "metadata": {},
   "outputs": [
    {
     "data": {
      "text/plain": [
       "3.141592653589793"
      ]
     },
     "execution_count": 9,
     "metadata": {},
     "output_type": "execute_result"
    }
   ],
   "source": [
    "import math \n",
    "math.floor(123.456)\n",
    "math.pi"
   ]
  },
  {
   "cell_type": "code",
   "execution_count": 11,
   "metadata": {},
   "outputs": [
    {
     "data": {
      "text/plain": [
       "3.141592653589793"
      ]
     },
     "execution_count": 11,
     "metadata": {},
     "output_type": "execute_result"
    }
   ],
   "source": [
    "from math import floor,pi\n",
    "floor(234.432)\n",
    "pi"
   ]
  },
  {
   "cell_type": "code",
   "execution_count": 24,
   "metadata": {},
   "outputs": [
    {
     "name": "stdout",
     "output_type": "stream",
     "text": [
      "3 31 22 29 14 36 11 90 83 27 "
     ]
    }
   ],
   "source": [
    "#functions to generate N random numbers\n",
    "import random\n",
    "def generatenrandomnumbers(n,lb,ub):\n",
    "    for i in range(0,n):\n",
    "       print( random.randint(lb,ub), end=\" \")\n",
    "generatenrandomnumbers(10,0,100)\n",
    "    "
   ]
  },
  {
   "cell_type": "code",
   "execution_count": 2,
   "metadata": {},
   "outputs": [
    {
     "data": {
      "text/plain": [
       "2"
      ]
     },
     "execution_count": 2,
     "metadata": {},
     "output_type": "execute_result"
    }
   ],
   "source": [
    "from packages import numeric\n",
    "numeric.numberOfPrimeFactors(6)"
   ]
  },
  {
   "cell_type": "code",
   "execution_count": null,
   "metadata": {},
   "outputs": [],
   "source": []
  }
 ],
 "metadata": {
  "kernelspec": {
   "display_name": "Python 3",
   "language": "python",
   "name": "python3"
  },
  "language_info": {
   "codemirror_mode": {
    "name": "ipython",
    "version": 3
   },
   "file_extension": ".py",
   "mimetype": "text/x-python",
   "name": "python",
   "nbconvert_exporter": "python",
   "pygments_lexer": "ipython3",
   "version": "3.7.3"
  }
 },
 "nbformat": 4,
 "nbformat_minor": 2
}
