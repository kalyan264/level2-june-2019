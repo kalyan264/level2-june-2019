{
 "cells": [
  {
   "cell_type": "code",
   "execution_count": 12,
   "metadata": {},
   "outputs": [
    {
     "name": "stdout",
     "output_type": "stream",
     "text": [
      "21\n",
      "4\n"
     ]
    }
   ],
   "source": [
    "#binyary to decimal\n",
    "a=\"10101\"\n",
    "print(int(a,2))\n",
    "print(len(a)-1)\n"
   ]
  },
  {
   "cell_type": "code",
   "execution_count": 21,
   "metadata": {},
   "outputs": [
    {
     "name": "stdout",
     "output_type": "stream",
     "text": [
      "123\n",
      "1111011\n"
     ]
    }
   ],
   "source": [
    "#decimal to binary\n",
    "n=int(input())\n",
    "print(bin(n).replace(\"0b\",\"\")) "
   ]
  },
  {
   "cell_type": "code",
   "execution_count": 20,
   "metadata": {},
   "outputs": [],
   "source": [
    "a=\"10101\"\n",
    "if (a[len(a)-1])==1:\n",
    "    print(\"odd\")\n",
    "#elif(a[len(a)-1])==0:\n",
    "   # print(\"even\")"
   ]
  },
  {
   "cell_type": "code",
   "execution_count": 1,
   "metadata": {},
   "outputs": [],
   "source": [
    "# Contacts Application\n",
    "# Add, Search, List, Modify Delete contacts\n",
    "# Find and Replace Application\n",
    "# Count the total number of occurrences\n",
    "# If word is existing\n",
    "# Replace all occurrences of a word with another"
   ]
  },
  {
   "cell_type": "code",
   "execution_count": 2,
   "metadata": {},
   "outputs": [],
   "source": [
    "## Marks Analysis Application\n",
    "# Generate marks file for n students\n",
    "# Input : Marks text file - each line contains marks of one students\n",
    "# Generates a report with the following information\n",
    "# Class Average\n",
    "# % of students passed\n",
    "# % of students failed\n",
    "# % of students with distinction\n",
    "# Highest Mark Frequency\n",
    "# Lowest Mark Frequency"
   ]
  },
  {
   "cell_type": "code",
   "execution_count": 3,
   "metadata": {},
   "outputs": [],
   "source": [
    "## Marks Analysis Application\n",
    "# Generate marks file for n students\n",
    "# Input : Marks text file - each line contains marks of one students\n",
    "# Generates a report with the following information\n",
    "# Class Average\n",
    "# % of students passed\n",
    "# % of students failed\n",
    "# % of students with distinction\n",
    "# Highest Mark Frequency\n",
    "# Lowest Mark Frequency"
   ]
  },
  {
   "cell_type": "code",
   "execution_count": 9,
   "metadata": {},
   "outputs": [],
   "source": [
    "#Function to generate marks data for N students\n",
    "\n",
    "from random import randint\n",
    "def generateMarks(n, lb, ub):\n",
    "    with open('datafile/marks.txt', 'w') as f:\n",
    "        for i in range(0, n):\n",
    "            r = randint(lb, ub)\n",
    "            f.write(str(r) + '\\n')\n",
    "        return\n",
    "generateMarks(10000, 0, 100)"
   ]
  },
  {
   "cell_type": "code",
   "execution_count": 3,
   "metadata": {},
   "outputs": [],
   "source": [
    "from random import randint\n",
    "with open(\"datafile/marks.txt\",'w') as f:\n",
    "    for i in range(1000):\n",
    "        f.write(str(randint(0,100))+'\\n')\n",
    "with open(\"datafile/marks.txt\",'r') as k:\n",
    "    s=ps=ds=fs=0\n",
    "    fc=pc=dc=0\n",
    "    for i in k:\n",
    "        s+=int(i)\n",
    "        if int(i)<40:\n",
    "            fc+=1\n",
    "            fs+=int(i)\n",
    "        elif int(i)>=40 and int(i)<75:\n",
    "            pc+=1\n",
    "            ps+=int(i)\n",
    "        elif int(i)>=75:\n",
    "            dc+=1\n",
    "            ds+=int(i)\n",
    "with open(\"datafile/marks.txt\",'a') as a:\n",
    "    print(\"Average of all students: \",s/1000,file=a)\n",
    "    print(\"Average of passed students: \",ps/pc,file=a)\n",
    "    print(\"Average of Distinction students: \",ds/dc,file=a)\n",
    "    print(\"Average of failed students: \",fs/fc,file=a)\n",
    "    print(\"\\n % Passed: \",(pc/1000)*100,file=a)\n",
    "    print(\"% Failed: \",(fc/1000)*100,file=a)\n",
    "    print(\"% Distinction: \",(dc/1000)*100,file=a)"
   ]
  },
  {
   "cell_type": "code",
   "execution_count": 10,
   "metadata": {},
   "outputs": [
    {
     "name": "stdout",
     "output_type": "stream",
     "text": [
      "[['apeend', 'to', 'the', 'file', 'apeend', 'to', 'the', 'fileline4line5line4line5'], ['line4'], ['line5'], ['kalyan'], ['9948184518']]\n",
      "Enter the word u want to replace:to the\n",
      "Enter the replacing word:the\n",
      "[['apeend', 'to', 'the', 'file', 'apeend', 'to', 'the', 'fileline4line5line4line5'], ['line4'], ['line5'], ['kalyan'], ['9948184518']]\n"
     ]
    }
   ],
   "source": [
    "#find and replace the word count in a file\n",
    "with open(\"datafile/data.txt\") as f:\n",
    "    c=f.readlines()\n",
    "    l=[]\n",
    "    for i in c:\n",
    "        l.append(i.strip().split(\" \"))\n",
    "print(l)\n",
    "s=input(\"Enter the word u want to replace:\")\n",
    "r=input(\"Enter the replacing word:\")\n",
    "for i in l:\n",
    "    for j in range(len(i)):\n",
    "        if i[j]==s:\n",
    "            i[j]=r\n",
    "print(l)"
   ]
  },
  {
   "cell_type": "code",
   "execution_count": 11,
   "metadata": {},
   "outputs": [
    {
     "name": "stdout",
     "output_type": "stream",
     "text": [
      "Enter:\n",
      "1.Pass Percentage\n",
      "2.Fail Percentage\n",
      "3.Distinction Percentage\n",
      "4.Max Marks Frequency\n",
      "5.Low Marks Frequency\n",
      "6.List of Marks\n",
      "2\n",
      "Fail Percentage for 1000 students is:  0.0\n",
      "Enter 1 to continue 0 to exit:0\n"
     ]
    }
   ],
   "source": [
    "\n",
    "with open(\"datafile/marks1.txt\",'r') as f:\n",
    "    l=[]\n",
    "    for i in f:\n",
    "        #l.append(i)\n",
    "        l=list(map(int,i.split()))\n",
    "n=1\n",
    "while(n):\n",
    "    k=int(input(\"Enter:\\n1.Pass Percentage\\n2.Fail Percentage\\n3.Distinction Percentage\\n4.Max Marks Frequency\\n5.Low Marks Frequency\\n6.List of Marks\\n\"))\n",
    "    if k==1:\n",
    "        c=0\n",
    "        for i in l:\n",
    "            if i>=40:\n",
    "                c+=1 \n",
    "        print(\"Pass Percentage for 1000 students is: \",(c/1000)*100)\n",
    "    elif k==2:\n",
    "        c=0\n",
    "        for i in l:\n",
    "            if i<40:\n",
    "                c+=1\n",
    "        print(\"Fail Percentage for 1000 students is: \",(c/1000)*100)\n",
    "    elif k==3:\n",
    "        c=0\n",
    "        for i in l:\n",
    "            if i>=80:\n",
    "                c+=1 \n",
    "        print(\"Distinction Percentage for 1000 students is: \",(c/1000)*100)\n",
    "    elif k==4:\n",
    "        print(\"max marks is {0} frequency is {1}\".format(max(l),l.count(max(l))))\n",
    "    elif k==5:\n",
    "        print(\"Low marks is {0} frequency is {1}\".format(min(l),l.count(min(l))))\n",
    "    elif k==6:\n",
    "        print(\"List of Marks:\\n\")\n",
    "        print(*l)\n",
    "    n=int(input(\"Enter 1 to continue 0 to exit:\"))"
   ]
  },
  {
   "cell_type": "code",
   "execution_count": null,
   "metadata": {},
   "outputs": [],
   "source": []
  }
 ],
 "metadata": {
  "kernelspec": {
   "display_name": "Python 3",
   "language": "python",
   "name": "python3"
  },
  "language_info": {
   "codemirror_mode": {
    "name": "ipython",
    "version": 3
   },
   "file_extension": ".py",
   "mimetype": "text/x-python",
   "name": "python",
   "nbconvert_exporter": "python",
   "pygments_lexer": "ipython3",
   "version": "3.7.3"
  }
 },
 "nbformat": 4,
 "nbformat_minor": 2
}
