{
 "cells": [
  {
   "cell_type": "code",
   "execution_count": 12,
   "metadata": {},
   "outputs": [
    {
     "name": "stdout",
     "output_type": "stream",
     "text": [
      "21\n",
      "4\n"
     ]
    }
   ],
   "source": [
    "#binyary to decimal\n",
    "a=\"10101\"\n",
    "print(int(a,2))\n",
    "print(len(a)-1)\n"
   ]
  },
  {
   "cell_type": "code",
   "execution_count": 21,
   "metadata": {},
   "outputs": [
    {
     "name": "stdout",
     "output_type": "stream",
     "text": [
      "123\n",
      "1111011\n"
     ]
    }
   ],
   "source": [
    "#decimal to binary\n",
    "n=int(input())\n",
    "print(bin(n).replace(\"0b\",\"\")) "
   ]
  },
  {
   "cell_type": "code",
   "execution_count": 20,
   "metadata": {},
   "outputs": [],
   "source": [
    "a=\"10101\"\n",
    "if (a[len(a)-1])==1:\n",
    "    print(\"odd\")\n",
    "#elif(a[len(a)-1])==0:\n",
    "   # print(\"even\")"
   ]
  },
  {
   "cell_type": "code",
   "execution_count": 1,
   "metadata": {},
   "outputs": [],
   "source": [
    "# Contacts Application\n",
    "# Add, Search, List, Modify Delete contacts\n",
    "# Find and Replace Application\n",
    "# Count the total number of occurrences\n",
    "# If word is existing\n",
    "# Replace all occurrences of a word with another"
   ]
  },
  {
   "cell_type": "code",
   "execution_count": 2,
   "metadata": {},
   "outputs": [],
   "source": [
    "## Marks Analysis Application\n",
    "# Generate marks file for n students\n",
    "# Input : Marks text file - each line contains marks of one students\n",
    "# Generates a report with the following information\n",
    "# Class Average\n",
    "# % of students passed\n",
    "# % of students failed\n",
    "# % of students with distinction\n",
    "# Highest Mark Frequency\n",
    "# Lowest Mark Frequency"
   ]
  },
  {
   "cell_type": "code",
   "execution_count": 3,
   "metadata": {},
   "outputs": [],
   "source": [
    "## Marks Analysis Application\n",
    "# Generate marks file for n students\n",
    "# Input : Marks text file - each line contains marks of one students\n",
    "# Generates a report with the following information\n",
    "# Class Average\n",
    "# % of students passed\n",
    "# % of students failed\n",
    "# % of students with distinction\n",
    "# Highest Mark Frequency\n",
    "# Lowest Mark Frequency"
   ]
  },
  {
   "cell_type": "code",
   "execution_count": null,
   "metadata": {},
   "outputs": [],
   "source": [
    "#Function to generate marks data for N students\n",
    "\n",
    "from random import randint\n",
    "def generateMarks(n, lb, ub):\n",
    "with open('datafiles/marks.txt', 'w') as f:\n",
    "for i in range(0, n):\n",
    "r = randint(lb, ub)\n",
    "f.write(str(r) + '\\n')\n",
    "return\n",
    "generateMarks(10000, 0, 100)"
   ]
  }
 ],
 "metadata": {
  "kernelspec": {
   "display_name": "Python 3",
   "language": "python",
   "name": "python3"
  },
  "language_info": {
   "codemirror_mode": {
    "name": "ipython",
    "version": 3
   },
   "file_extension": ".py",
   "mimetype": "text/x-python",
   "name": "python",
   "nbconvert_exporter": "python",
   "pygments_lexer": "ipython3",
   "version": "3.7.3"
  }
 },
 "nbformat": 4,
 "nbformat_minor": 2
}
