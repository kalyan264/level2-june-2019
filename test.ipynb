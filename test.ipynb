{
 "cells": [
  {
   "cell_type": "code",
   "execution_count": 11,
   "metadata": {},
   "outputs": [
    {
     "name": "stdout",
     "output_type": "stream",
     "text": [
      "digits 3 chars 6\n"
     ]
    }
   ],
   "source": [
    "s ='abc123ABC'\n",
    "chars_count = 0\n",
    "digit = 0\n",
    "for each in s:\n",
    "    if each.isalpha():\n",
    "        chars_count += 1\n",
    "    if each.isdigit():\n",
    "        digit += 1\n",
    "print('digits',digit,'chars',chars_count)"
   ]
  },
  {
   "cell_type": "code",
   "execution_count": 25,
   "metadata": {},
   "outputs": [
    {
     "name": "stdout",
     "output_type": "stream",
     "text": [
      "12 NO\n",
      "28 YES\n",
      "6 YES\n",
      "34 NO\n",
      "7 NO\n"
     ]
    }
   ],
   "source": [
    "l=[12,28,6,34,7]\n",
    "#n=int(input())\n",
    "for i in l:\n",
    "    s=0\n",
    "    for j in range(1,i):\n",
    "        if(i%j)==0:\n",
    "            s=s+j\n",
    "    if(s==i):\n",
    "        print(i,\"YES\")\n",
    "    else:\n",
    "        print(i,\"NO\")\n",
    "\n",
    "\n",
    "\n",
    "\n"
   ]
  },
  {
   "cell_type": "code",
   "execution_count": 1,
   "metadata": {},
   "outputs": [
    {
     "name": "stdout",
     "output_type": "stream",
     "text": [
      "5\n",
      "2\n",
      "NO\n"
     ]
    }
   ],
   "source": [
    "def isprime(n):\n",
    "    count=0\n",
    "    for i in range(2,n+1):\n",
    "        if n%i==0:\n",
    "            count +=1\n",
    "    if count == 1:\n",
    "        return True\n",
    "    \n",
    "## actual problem\n",
    "p=int(input())\n",
    "m=int(input())\n",
    "count1 = 0\n",
    "for j in range(1,m):\n",
    "    \n",
    "    if m%j==0:\n",
    "        if isprime(j):\n",
    "            count1 +=1\n",
    "if count1 == p:\n",
    "    print(\"YES\")\n",
    "else:\n",
    "    print(\"NO\")"
   ]
  },
  {
   "cell_type": "code",
   "execution_count": null,
   "metadata": {},
   "outputs": [],
   "source": []
  }
 ],
 "metadata": {
  "kernelspec": {
   "display_name": "Python 3",
   "language": "python",
   "name": "python3"
  },
  "language_info": {
   "codemirror_mode": {
    "name": "ipython",
    "version": 3
   },
   "file_extension": ".py",
   "mimetype": "text/x-python",
   "name": "python",
   "nbconvert_exporter": "python",
   "pygments_lexer": "ipython3",
   "version": "3.7.3"
  }
 },
 "nbformat": 4,
 "nbformat_minor": 2
}
