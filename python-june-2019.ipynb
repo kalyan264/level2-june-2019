{
 "cells": [
  {
   "cell_type": "markdown",
   "metadata": {},
   "source": [
    "### Notebook Basics\n",
    "\n",
    "* **bold**<br>\n",
    "* *italic*<br>\n",
    "* ***blod and italic***\n",
    "* Normal text\n",
    "     * sub list1\n",
    "     * sub list2\n",
    "     \n",
    " \n",
    "1. Ordered list element1\n",
    "2. Ordered list element2\n",
    "\n",
    "\n",
    "\n",
    "\n",
    ".[Jupyter Logo].(1.png)\n",
    "\n",
    "\n",
    "\n",
    "\n",
    "\n"
   ]
  },
  {
   "cell_type": "code",
   "execution_count": null,
   "metadata": {},
   "outputs": [],
   "source": [
    "### Notebook Basics\n",
    "\n",
    "* **bold**<br>\n",
    "* *italic*<br>\n",
    "* ***blod and italic***\n",
    "* Normal text\n",
    "     * sub list1\n",
    "     * sub list2\n",
    "     \n",
    " \n",
    "1. Ordered list element1\n",
    "2. Ordered list element2\n",
    "\n",
    "\n",
    "\n",
    "\n",
    "\n",
    "\n",
    "[Jupyter Logo](1.png).\n",
    "\n",
    "\n",
    "<img src=\"1.PNG\" style=\"float:centre\">\n",
    "\n",
    "\n",
    "\n",
    "[github](https://www.github.com).\n",
    "\n",
    "\n",
    "printf(\"hello markdown\")\n",
    "\n",
    "\n",
    "<http://www.google.com>\n",
    "\n"
   ]
  }
 ],
 "metadata": {
  "kernelspec": {
   "display_name": "Python 3",
   "language": "python",
   "name": "python3"
  },
  "language_info": {
   "codemirror_mode": {
    "name": "ipython",
    "version": 3
   },
   "file_extension": ".py",
   "mimetype": "text/x-python",
   "name": "python",
   "nbconvert_exporter": "python",
   "pygments_lexer": "ipython3",
   "version": "3.7.3"
  }
 },
 "nbformat": 4,
 "nbformat_minor": 2
}
