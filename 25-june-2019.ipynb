{
 "cells": [
  {
   "cell_type": "code",
   "execution_count": null,
   "metadata": {},
   "outputs": [],
   "source": [
    "def strings(s1):\n",
    "  count=0\n",
    "  for sumit in \"s1\":\n",
    "    if sumit==s1:\n",
    "        count=count+1\n",
    "return count\n",
    "         \n",
    "    \n",
    "strings(\"mitsu\")"
   ]
  },
  {
   "cell_type": "code",
   "execution_count": null,
   "metadata": {},
   "outputs": [],
   "source": [
    "count = 0\n",
    "for letter in 'Hello World':\n",
    "    if(letter == 'l'):\n",
    "        count += 1\n",
    "print(count,'letters found')"
   ]
  },
  {
   "cell_type": "code",
   "execution_count": null,
   "metadata": {},
   "outputs": [],
   "source": [
    "a=input()\n",
    "print(len(a))\n",
    "l=list(map(int,str(a)))\n",
    "#res = list(map(int, str(num)))\n",
    "sum=0\n",
    "for i in range(1,len(a)+1):\n",
    "    sum=sum+i\n",
    "print(sum)\n",
    "        "
   ]
  },
  {
   "cell_type": "code",
   "execution_count": null,
   "metadata": {},
   "outputs": [],
   "source": [
    "#a=list(map(int,input().split()))\n",
    "#b=sum(list,a)\n",
    "numbers = [1,2,3,4,5,1,4,5] \n",
    "  \n",
    "# start parameter is not provided \n",
    "Sum = sum(numbers) \n",
    "print(Sum) \n"
   ]
  },
  {
   "cell_type": "code",
   "execution_count": null,
   "metadata": {},
   "outputs": [],
   "source": [
    "a=input()\n",
    "#print(len(a))\n",
    "l=list(map(int,str(a)))\n",
    "print(sum(l))"
   ]
  },
  {
   "cell_type": "code",
   "execution_count": 4,
   "metadata": {},
   "outputs": [
    {
     "name": "stdout",
     "output_type": "stream",
     "text": [
      "123avb234b\n",
      "0 1 2 2 1 0 0 0 0 0 "
     ]
    }
   ],
   "source": [
    "def uniquedata(allnumbers):\n",
    "    unique=[]\n",
    "    for n in allnumbers:\n",
    "        if n not in unique:\n",
    "            unique.append(n)\n",
    "    return unique\n",
    "        \n",
    "def digitFrequency(s):\n",
    "    allnumbers=[]\n",
    "    for i in s:\n",
    "        if i.isdigit():\n",
    "            allnumbers.append(i)\n",
    "    unique=uniquedata(allnumbers)\n",
    "    for i in range(0,10):\n",
    "        if str(i) not in unique:\n",
    "            print(0,end=\" \")\n",
    "        else:\n",
    "        \n",
    "            count= allnumbers.count(str(i))\n",
    "            print(count,end=\" \")\n",
    "s=input()\n",
    "digitFrequency(s)"
   ]
  },
  {
   "cell_type": "code",
   "execution_count": 10,
   "metadata": {},
   "outputs": [
    {
     "name": "stdout",
     "output_type": "stream",
     "text": [
      "1234asdfg\n",
      "1 1 1 1 0 0 0 0 0 "
     ]
    }
   ],
   "source": [
    "def digitfrequency2(s):\n",
    "    count=0\n",
    "    for i in range(1,10):\n",
    "        count=s.count(str(i))\n",
    "        print(count,end=\" \")\n",
    "s=input()\n",
    "digitfrequency2(s)"
   ]
  },
  {
   "cell_type": "code",
   "execution_count": 2,
   "metadata": {},
   "outputs": [
    {
     "name": "stdout",
     "output_type": "stream",
     "text": [
      "aabcd\n",
      "2\n",
      "b\n"
     ]
    }
   ],
   "source": [
    "# 2\n",
    "# aabcd --->-1\n",
    "# 3\n",
    "# aabcd --->b\n",
    "# 2\n",
    "s=input()#aabcd\n",
    "l=[]\n",
    "n=int(input())\n",
    "for i in s:\n",
    "    c=s.count(i)\n",
    "    l.append(c)\n",
    "f=max(l)\n",
    "if(f<n):\n",
    "    print(-1)\n",
    "else:\n",
    "    print(s[n])"
   ]
  },
  {
   "cell_type": "raw",
   "metadata": {},
   "source": []
  },
  {
   "cell_type": "code",
   "execution_count": 1,
   "metadata": {},
   "outputs": [
    {
     "name": "stdout",
     "output_type": "stream",
     "text": [
      "kalyan\n",
      "nazeer\n",
      "A\n"
     ]
    }
   ],
   "source": [
    "s=input()\n",
    "t=input()\n",
    "k=\"FLAME\"\n",
    "res=0;\n",
    "for i in range(ord('a'),ord('z')+1):\n",
    "    res=res+abs(s.count(chr(i))-t.count(chr(i)));\n",
    "temp=res%5\n",
    "if(temp==0):\n",
    "    print(\"S\");\n",
    "else:\n",
    "    print(k[temp-1])"
   ]
  },
  {
   "cell_type": "code",
   "execution_count": 39,
   "metadata": {},
   "outputs": [
    {
     "data": {
      "text/plain": [
       "2"
      ]
     },
     "execution_count": 39,
     "metadata": {},
     "output_type": "execute_result"
    }
   ],
   "source": []
  },
  {
   "cell_type": "code",
   "execution_count": null,
   "metadata": {},
   "outputs": [],
   "source": []
  }
 ],
 "metadata": {
  "kernelspec": {
   "display_name": "Python 3",
   "language": "python",
   "name": "python3"
  },
  "language_info": {
   "codemirror_mode": {
    "name": "ipython",
    "version": 3
   },
   "file_extension": ".py",
   "mimetype": "text/x-python",
   "name": "python",
   "nbconvert_exporter": "python",
   "pygments_lexer": "ipython3",
   "version": "3.7.3"
  }
 },
 "nbformat": 4,
 "nbformat_minor": 2
}
