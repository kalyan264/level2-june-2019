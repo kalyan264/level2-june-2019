{
 "cells": [
  {
   "cell_type": "markdown",
   "metadata": {},
   "source": [
    "### Markdown Basics\n",
    "* **Bold**<br>\n",
    "* ***Bold&Italic***\n",
    "* normal text\n",
    "  * sublist1\n",
    "  * sublist2\n",
    "\n",
    "\n",
    "\n",
    ">1. ordered list  l1\n",
    ">2. ordered list l2\n",
    "\n",
    "\n",
    "[jupyterlogo](1.png)\n",
    "\n",
    "\n",
    "\n",
    "- [ ] option1\n",
    "\n",
    "\n",
    "I get 10 times more traffic from [Google]  than from\n",
    "[Yahoo]  or [MSN] \n",
    "\n",
    "  [google]: http://google.com/        \"Google\"\n",
    "  [yahoo]: http://search.yahoo.com/  \"Yahoo Search\"\n",
    "[msn]: http://search.msn.com/    \"MSN Search\"\n",
    "\n",
    "\n",
    "`printf(\"helloworld\")`\n",
    "\n",
    "<https:/google.com>\n",
    "\n",
    "<pavanpardumedi@gmail.com>"
   ]
  },
  {
   "cell_type": "code",
   "execution_count": null,
   "metadata": {},
   "outputs": [],
   "source": []
  },
  {
   "cell_type": "markdown",
   "metadata": {},
   "source": [
    "## python basics\n",
    "python version 3.7\n",
    "\n",
    "- scripting\n",
    "- object orinted\n",
    "- functinal"
   ]
  },
  {
   "cell_type": "code",
   "execution_count": 1,
   "metadata": {},
   "outputs": [
    {
     "name": "stdout",
     "output_type": "stream",
     "text": [
      "test code !|hello python\n"
     ]
    }
   ],
   "source": [
    "#python comments\n",
    "\n",
    "print(\"test code\", \"!\",end=\"|\") #basic output\n",
    "print('hello python')\n"
   ]
  },
  {
   "cell_type": "markdown",
   "metadata": {},
   "source": [
    "### assignment"
   ]
  },
  {
   "cell_type": "code",
   "execution_count": null,
   "metadata": {},
   "outputs": [],
   "source": []
  },
  {
   "cell_type": "code",
   "execution_count": null,
   "metadata": {},
   "outputs": [],
   "source": []
  },
  {
   "cell_type": "code",
   "execution_count": 2,
   "metadata": {},
   "outputs": [
    {
     "data": {
      "text/plain": [
       "345"
      ]
     },
     "execution_count": 2,
     "metadata": {},
     "output_type": "execute_result"
    }
   ],
   "source": [
    "n1 = 123 #single variable asssignment\n",
    "\n",
    "n2 = n3 = n4 = n1 # multi variablee assignment\n",
    "\n",
    "a, b, c = 123, 2334, 345 # multi variable assignment with different values\n",
    "\n",
    "c  #prints\n"
   ]
  },
  {
   "cell_type": "markdown",
   "metadata": {},
   "source": [
    "### Data types\n",
    "- int\n",
    "- float\n",
    "- stirng"
   ]
  },
  {
   "cell_type": "code",
   "execution_count": 3,
   "metadata": {},
   "outputs": [
    {
     "data": {
      "text/plain": [
       "12.0"
      ]
     },
     "execution_count": 3,
     "metadata": {},
     "output_type": "execute_result"
    }
   ],
   "source": [
    "type(a) #integer\n",
    "s1 = \"python\" #string\n",
    "\n",
    "type(s1)\n",
    "\n",
    "f1 = 12.234 #Float\n",
    "type(f1)\n",
    "int(f1)#type conversion by taking floor value\n",
    "float(int(f1))"
   ]
  },
  {
   "cell_type": "code",
   "execution_count": null,
   "metadata": {},
   "outputs": [],
   "source": []
  },
  {
   "cell_type": "code",
   "execution_count": null,
   "metadata": {},
   "outputs": [],
   "source": []
  },
  {
   "cell_type": "markdown",
   "metadata": {},
   "source": [
    "## arthematic opetations using\n",
    "- +\n",
    "- -\n",
    "- /\n",
    "- %\n",
    "- *\n",
    "- **"
   ]
  },
  {
   "cell_type": "code",
   "execution_count": null,
   "metadata": {},
   "outputs": [],
   "source": []
  },
  {
   "cell_type": "code",
   "execution_count": null,
   "metadata": {},
   "outputs": [],
   "source": []
  },
  {
   "cell_type": "code",
   "execution_count": 4,
   "metadata": {},
   "outputs": [
    {
     "data": {
      "text/plain": [
       "123"
      ]
     },
     "execution_count": 4,
     "metadata": {},
     "output_type": "execute_result"
    }
   ],
   "source": [
    "n1 % 11\n",
    "n2 = n2**11\n",
    "type(n2)\n",
    "#len(str(n2))\n",
    "n3"
   ]
  },
  {
   "cell_type": "code",
   "execution_count": null,
   "metadata": {},
   "outputs": [],
   "source": []
  },
  {
   "cell_type": "code",
   "execution_count": 5,
   "metadata": {},
   "outputs": [
    {
     "data": {
      "text/plain": [
       "81"
      ]
     },
     "execution_count": 5,
     "metadata": {},
     "output_type": "execute_result"
    }
   ],
   "source": [
    "atoms = 10**80\n",
    "len(str(atoms))"
   ]
  },
  {
   "cell_type": "code",
   "execution_count": null,
   "metadata": {},
   "outputs": [],
   "source": []
  },
  {
   "cell_type": "markdown",
   "metadata": {},
   "source": [
    "### Conditionals"
   ]
  },
  {
   "cell_type": "code",
   "execution_count": 6,
   "metadata": {},
   "outputs": [
    {
     "ename": "SyntaxError",
     "evalue": "invalid syntax (<ipython-input-6-69cfdd6d699f>, line 1)",
     "output_type": "error",
     "traceback": [
      "\u001b[1;36m  File \u001b[1;32m\"<ipython-input-6-69cfdd6d699f>\"\u001b[1;36m, line \u001b[1;32m1\u001b[0m\n\u001b[1;33m    atoms < 10 ** 9:\u001b[0m\n\u001b[1;37m                    ^\u001b[0m\n\u001b[1;31mSyntaxError\u001b[0m\u001b[1;31m:\u001b[0m invalid syntax\n"
     ]
    }
   ],
   "source": [
    "atoms < 10 ** 9:\n",
    "    print(\"TRUE\")"
   ]
  },
  {
   "cell_type": "code",
   "execution_count": null,
   "metadata": {},
   "outputs": [],
   "source": [
    "if 5 > 9:\n",
    "    print ('TRUE')\n",
    "else:\n",
    "    print(\"FALSE\")"
   ]
  },
  {
   "cell_type": "code",
   "execution_count": null,
   "metadata": {},
   "outputs": [],
   "source": [
    "n=123\n",
    "if n %2 == 0:\n",
    "    print(\"even\")\n",
    "else:\n",
    "    print(\"odd\")"
   ]
  },
  {
   "cell_type": "code",
   "execution_count": null,
   "metadata": {},
   "outputs": [],
   "source": [
    "n1 = int(input(\"enter first number\"))\n",
    "n2 = int(input(\"enter second number\"))\n",
    "n3 = int(input(\"enter third number\"))\n",
    "if n1>n2 and n1>n3:\n",
    "    print(n1,\"is the greatest number\")\n",
    "elif n2>n3:\n",
    "    print(n2,\"is the greatest number\")\n",
    "else:\n",
    "    print(n3,\"is the greatest number\")"
   ]
  },
  {
   "cell_type": "code",
   "execution_count": null,
   "metadata": {},
   "outputs": [],
   "source": [
    "#lenth of a num\n",
    "n = int(input(\"enter\"))\n",
    "len(str(int(n)))\n",
    "\n",
    "\n"
   ]
  },
  {
   "cell_type": "code",
   "execution_count": null,
   "metadata": {},
   "outputs": [],
   "source": [
    "#calculate square root of a number\n",
    "n = int((input(\"enter the num\")))\n",
    "m = float(n ** 0.5)\n",
    "print(\"sq_root of given number\", m)\n"
   ]
  },
  {
   "cell_type": "code",
   "execution_count": null,
   "metadata": {},
   "outputs": [],
   "source": [
    "# given string is equal to a number\n",
    "n = str(input(\"enter a string\"))\n",
    "m = int(input(\"enter a number\"))\n",
    "if n == str(m):\n",
    "    print(n, \"equal to\", m)\n",
    "else:\n",
    "    print(n, \"not equal\", m)\n",
    "    \n",
    "\n"
   ]
  },
  {
   "cell_type": "code",
   "execution_count": null,
   "metadata": {},
   "outputs": [],
   "source": [
    "a = 12\n",
    "print(a, type(a))"
   ]
  },
  {
   "cell_type": "code",
   "execution_count": null,
   "metadata": {},
   "outputs": [],
   "source": [
    "a = \"string\"\n",
    "print(a, type(a))"
   ]
  },
  {
   "cell_type": "code",
   "execution_count": null,
   "metadata": {},
   "outputs": [],
   "source": [
    "a=1\n",
    "b=0\n",
    "a&b"
   ]
  },
  {
   "cell_type": "code",
   "execution_count": null,
   "metadata": {
    "scrolled": true
   },
   "outputs": [],
   "source": [
    "s=\"python\"#reverse of a string..\n",
    "s[-1:-3:-1]\n",
    "b= float(len(s)/2)+1\n",
    "s[len(s)//2:len(s)//2-2:-1]\n",
    "float(len(s)/2)\n",
    "s[-1: :-2]\n",
    "s[ : :2]\n"
   ]
  },
  {
   "cell_type": "code",
   "execution_count": null,
   "metadata": {},
   "outputs": [],
   "source": []
  },
  {
   "cell_type": "markdown",
   "metadata": {},
   "source": [
    "## functions"
   ]
  },
  {
   "cell_type": "code",
   "execution_count": null,
   "metadata": {},
   "outputs": [],
   "source": [
    "#function to reverse a string\n",
    "def reverseString(s):\n",
    "    return s[::-1]\n",
    "reverseString(\"python\")"
   ]
  },
  {
   "cell_type": "code",
   "execution_count": null,
   "metadata": {},
   "outputs": [],
   "source": [
    "#Funtion to check if string is a palindrom\n",
    "def palindrome(s):\n",
    "    if s == s[::-1]:\n",
    "        return True\n",
    "    else:\n",
    "        return False\n",
    "palindrome(\"r\")\n"
   ]
  },
  {
   "cell_type": "code",
   "execution_count": null,
   "metadata": {},
   "outputs": [],
   "source": [
    "def numofdigits(a):\n",
    "    return len(str(a))\n",
    "numofdigits(1234)"
   ]
  },
  {
   "cell_type": "code",
   "execution_count": null,
   "metadata": {},
   "outputs": [],
   "source": [
    "def greatestoffour(a,b,c,d):\n",
    "    if a>b and a>c and a>d:\n",
    "        return a \n",
    "    elif b>c and b>d:\n",
    "        return b \n",
    "    elif c>d:\n",
    "        return c \n",
    "    else:\n",
    "        return d \n",
    "greatestoffour(2,3,4,5)"
   ]
  },
  {
   "cell_type": "code",
   "execution_count": null,
   "metadata": {},
   "outputs": [],
   "source": []
  },
  {
   "cell_type": "markdown",
   "metadata": {},
   "source": [
    "## iteration\n",
    "\n",
    "- for\n",
    "- while\n"
   ]
  },
  {
   "cell_type": "code",
   "execution_count": null,
   "metadata": {},
   "outputs": [],
   "source": [
    "#functions to print n natural numbers\n",
    "def naturalnum(n):\n",
    "    for i in range(1, n+1):\n",
    "        print(i, end=(\" \"))\n",
    "    #return\n",
    "    \n",
    "naturalnum(10)"
   ]
  },
  {
   "cell_type": "code",
   "execution_count": null,
   "metadata": {},
   "outputs": [],
   "source": [
    "#using while loop\n",
    "def Nnaturalnum(n):\n",
    "    i = 1\n",
    "    while i <=n:\n",
    "        print(i, end=\" \")\n",
    "        i = i+1\n",
    "    return\n",
    "Nnaturalnum(10)"
   ]
  },
  {
   "cell_type": "code",
   "execution_count": null,
   "metadata": {},
   "outputs": [],
   "source": [
    "import keyword\n",
    "print (keyword.kwlist)"
   ]
  },
  {
   "cell_type": "code",
   "execution_count": null,
   "metadata": {},
   "outputs": [],
   "source": [
    "#numbers divided bu 6 and not a multiple of 100\n",
    "def divisibleby6(a,b):\n",
    "    for i in range(a,b+1):\n",
    "        if i%6==0 and 100%i!=0:\n",
    "            print(i)\n",
    "divisibleby6(1,50)"
   ]
  },
  {
   "cell_type": "code",
   "execution_count": null,
   "metadata": {},
   "outputs": [],
   "source": [
    "#sum of  cubes of even numbers in given range\n",
    "def sumofevencubes(a,b):\n",
    "    s=0\n",
    "    for i in range(a,b+1):\n",
    "        if i%2==0:\n",
    "            s=s+i**3\n",
    "    print(s)\n",
    "    \n",
    "sumofevencubes(1,10)\n"
   ]
  },
  {
   "cell_type": "code",
   "execution_count": null,
   "metadata": {},
   "outputs": [],
   "source": [
    "#average of first n prime numbers\n",
    "def averageofprimenum(n):\n",
    "    s=0\n",
    "    c2=0\n",
    "    for i in range(1,n+1):\n",
    "        count=0\n",
    "        for j in range(1,i+1):\n",
    "            if i%j==0:\n",
    "                count=count+1\n",
    "        if count==2:\n",
    "            s=s+i\n",
    "            c2=c2+1\n",
    "            print(i, end=\" \")\n",
    "            \n",
    "   \n",
    "    print(s)\n",
    "    print(c2)\n",
    "    print(\"average of prime numbers is \", s/c2)\n",
    "    return\n",
    "averageofprimenum(10)\n",
    "    \n",
    "    \n",
    "        "
   ]
  },
  {
   "cell_type": "code",
   "execution_count": null,
   "metadata": {},
   "outputs": [],
   "source": [
    "def perfectnum(n):\n",
    "    s=0\n",
    "    for i in range (1,n):\n",
    "        s=0\n",
    "        for j in range(1,i):\n",
    "            if i%j==0:\n",
    "                s=s+j\n",
    "        if s==i:\n",
    "            print(i)\n",
    "    return\n",
    "perfectnum(500)\n",
    "\n",
    "            "
   ]
  },
  {
   "cell_type": "code",
   "execution_count": null,
   "metadata": {},
   "outputs": [],
   "source": [
    "def factorial(n):\n",
    "    f=1\n",
    "    for i in range(1,n+1):\n",
    "        f=f*i\n",
    "    print(f)\n",
    "    \n",
    "    return\n",
    "factorial(3)\n",
    "        \n",
    "    "
   ]
  },
  {
   "cell_type": "markdown",
   "metadata": {},
   "source": [
    "### Additional problems"
   ]
  },
  {
   "cell_type": "code",
   "execution_count": null,
   "metadata": {},
   "outputs": [],
   "source": [
    "#function to calculate average of all facors of a number\n",
    "def avgoffactors(n,lb,ub):\n",
    "    sum=0\n",
    "    count=0\n",
    "    for lb in range(lb,ub+1):\n",
    "        if n%lb==0:\n",
    "            sum=sum+lb\n",
    "            count=count+1\n",
    "    print(\"average of factorial in given range is\", sum/count)\n",
    "    return\n",
    "avgoffactors(20,1,10)\n",
    "\n",
    "    \n",
    "    "
   ]
  },
  {
   "cell_type": "code",
   "execution_count": null,
   "metadata": {},
   "outputs": [],
   "source": [
    "#avg of factorials in a given range\n",
    "def avgoffactorial(a,b):\n",
    "    s=0\n",
    "    for i in range (a,b+1):\n",
    "        f=1\n",
    "        for j in range(1,i+1):\n",
    "            f=f*j\n",
    "        s=s+f\n",
    "    #print(s)\n",
    "    #print(b-a+1)\n",
    "    print(\"avg of facorials\", s/(b-a+1))\n",
    "avgoffactorial(1,3)\n",
    "    \n",
    "    \n",
    "        "
   ]
  },
  {
   "cell_type": "code",
   "execution_count": 7,
   "metadata": {},
   "outputs": [
    {
     "name": "stdout",
     "output_type": "stream",
     "text": [
      "153\n",
      "371\n",
      "407\n"
     ]
    }
   ],
   "source": [
    "def NoddangstromNum(n):\n",
    "    #count=0\n",
    "    num=100\n",
    "    while(n):\n",
    "        s=0\n",
    "        temp=num\n",
    "        #b=len(str(num))\n",
    "        #rem=0\n",
    "        while(temp>0):\n",
    "            rem=temp%10\n",
    "            s=s+rem**3\n",
    "            temp=temp//10\n",
    "        if s==num:\n",
    "            if num%2!=0:\n",
    "                print(num)\n",
    "                #count=count+1\n",
    "                n=n-1\n",
    "        num=num+1\n",
    "NoddangstromNum(3)\n",
    "\n",
    "        \n",
    "        "
   ]
  },
  {
   "cell_type": "code",
   "execution_count": 12,
   "metadata": {},
   "outputs": [
    {
     "name": "stdout",
     "output_type": "stream",
     "text": [
      "1\n",
      "3\n",
      "5\n",
      "7\n",
      "9\n",
      "153\n",
      "371\n",
      "407\n",
      "92727\n",
      "1741725\n"
     ]
    }
   ],
   "source": [
    "#function to generate first n angstrom numbers\n",
    "def NoddangstromNum(n):\n",
    "    #count=0\n",
    "    num=1\n",
    "    while(n):\n",
    "        s=0\n",
    "        temp=num\n",
    "        if num%2!=0:\n",
    "            b=len(str(num))\n",
    "            while(temp>0):\n",
    "                rem=temp%10\n",
    "                s=s+rem**b\n",
    "                temp=temp//10\n",
    "            if s==num:\n",
    "                print(num)\n",
    "                n=n-1\n",
    "        num=num+1\n",
    "NoddangstromNum(10)\n",
    "\n",
    "        \n",
    "        "
   ]
  },
  {
   "cell_type": "code",
   "execution_count": 13,
   "metadata": {},
   "outputs": [
    {
     "name": "stdout",
     "output_type": "stream",
     "text": [
      "10 X 100 = 1000\n",
      "10 X 101 = 1010\n",
      "10 X 102 = 1020\n"
     ]
    }
   ],
   "source": [
    "def multiplicationtable(num,m,n):\n",
    "    for i in range(m,n+1):\n",
    "        print(num, \"X\", i, \"=\", num*i)\n",
    "multiplicationtable(10,100,102)\n"
   ]
  },
  {
   "cell_type": "code",
   "execution_count": null,
   "metadata": {},
   "outputs": [],
   "source": []
  }
 ],
 "metadata": {
  "kernelspec": {
   "display_name": "Python 3",
   "language": "python",
   "name": "python3"
  },
  "language_info": {
   "codemirror_mode": {
    "name": "ipython",
    "version": 3
   },
   "file_extension": ".py",
   "mimetype": "text/x-python",
   "name": "python",
   "nbconvert_exporter": "python",
   "pygments_lexer": "ipython3",
   "version": "3.7.3"
  }
 },
 "nbformat": 4,
 "nbformat_minor": 2
}
