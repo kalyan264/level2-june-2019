{
 "cells": [
  {
   "cell_type": "code",
   "execution_count": 7,
   "metadata": {},
   "outputs": [
    {
     "data": {
      "text/plain": [
       "730"
      ]
     },
     "execution_count": 7,
     "metadata": {},
     "output_type": "execute_result"
    }
   ],
   "source": [
    "#list of leap years\n",
    "def leapyear(year):\n",
    "    if(year%400==0 or(year%100!=0 and year%4==0)):\n",
    "        return True\n",
    "    return False\n",
    "def generateleapyears(startyear,endyear):\n",
    "    for i in range(startyear,endyear+1):\n",
    "        if leapyear(i):\n",
    "             print(i, end=\" \")\n",
    "    return\n",
    "def noofdays(start,end):\n",
    "    sum=0\n",
    "    for i in range(start,end+1):\n",
    "        if leapyear(i):\n",
    "            sum=sum+366\n",
    "        else:\n",
    "            sum=sum+365\n",
    "    return sum\n",
    "noofdays(2014,2015)\n",
    "\n",
    "    \n",
    "\n",
    "        \n",
    "        "
   ]
  },
  {
   "cell_type": "code",
   "execution_count": 41,
   "metadata": {},
   "outputs": [
    {
     "name": "stdout",
     "output_type": "stream",
     "text": [
      "8521\n",
      "204504\n"
     ]
    }
   ],
   "source": [
    "import datetime\n",
    "\n",
    "x = datetime.datetime(1975, 11, 1)\n",
    " \n",
    "y= datetime.datetime(1999, 3, 1)\n",
    "\n",
    "diff=y-x\n",
    "\n",
    "\n",
    "days=diff.days\n",
    "print(str(days))\n",
    "\n",
    "hours = 24*days\n",
    "print (str(hours))\n",
    "\n"
   ]
  },
  {
   "cell_type": "code",
   "execution_count": 5,
   "metadata": {},
   "outputs": [
    {
     "data": {
      "text/plain": [
       "True"
      ]
     },
     "execution_count": 5,
     "metadata": {},
     "output_type": "execute_result"
    }
   ],
   "source": [
    "#armstrong\n",
    "def armstrong(n):\n",
    "    sm=0\n",
    "    temp=n\n",
    "    while(temp>0):\n",
    "        rem=temp%10\n",
    "        sm=sm+rem**3\n",
    "        temp=temp//10\n",
    "    if n==sm:\n",
    "        return True\n",
    "    else:\n",
    "        return False\n",
    "armstrong(370)\n",
    "                   \n",
    "    "
   ]
  },
  {
   "cell_type": "code",
   "execution_count": 40,
   "metadata": {},
   "outputs": [
    {
     "ename": "NameError",
     "evalue": "name 'daysistartyear' is not defined",
     "output_type": "error",
     "traceback": [
      "\u001b[1;31m---------------------------------------------------------------------------\u001b[0m",
      "\u001b[1;31mNameError\u001b[0m                                 Traceback (most recent call last)",
      "\u001b[1;32m<ipython-input-40-e76b54242a68>\u001b[0m in \u001b[0;36m<module>\u001b[1;34m\u001b[0m\n\u001b[0;32m     28\u001b[0m         \u001b[0mdays\u001b[0m\u001b[1;33m=\u001b[0m\u001b[0mdays\u001b[0m\u001b[1;33m+\u001b[0m\u001b[0mnumberofdays\u001b[0m\u001b[1;33m(\u001b[0m\u001b[0mstartyear\u001b[0m\u001b[1;33m+\u001b[0m\u001b[1;36m1\u001b[0m\u001b[1;33m,\u001b[0m\u001b[0mendyear\u001b[0m\u001b[1;33m-\u001b[0m\u001b[1;36m1\u001b[0m\u001b[1;33m)\u001b[0m\u001b[1;33m\u001b[0m\u001b[1;33m\u001b[0m\u001b[0m\n\u001b[0;32m     29\u001b[0m     \u001b[1;32mreturn\u001b[0m \u001b[1;36m24\u001b[0m\u001b[1;33m*\u001b[0m\u001b[0mdays\u001b[0m\u001b[1;33m\u001b[0m\u001b[1;33m\u001b[0m\u001b[0m\n\u001b[1;32m---> 30\u001b[1;33m \u001b[0mnumberofhours\u001b[0m\u001b[1;33m(\u001b[0m\u001b[1;36m11\u001b[0m\u001b[1;33m,\u001b[0m\u001b[1;36m1975\u001b[0m\u001b[1;33m,\u001b[0m\u001b[1;36m3\u001b[0m\u001b[1;33m,\u001b[0m\u001b[1;36m1999\u001b[0m\u001b[1;33m)\u001b[0m\u001b[1;33m\u001b[0m\u001b[1;33m\u001b[0m\u001b[0m\n\u001b[0m",
      "\u001b[1;32m<ipython-input-40-e76b54242a68>\u001b[0m in \u001b[0;36mnumberofhours\u001b[1;34m(startmonth, startyear, endmonth, endyear)\u001b[0m\n\u001b[0;32m     21\u001b[0m \u001b[1;32mdef\u001b[0m \u001b[0mnumberofhours\u001b[0m\u001b[1;33m(\u001b[0m\u001b[0mstartmonth\u001b[0m\u001b[1;33m,\u001b[0m\u001b[0mstartyear\u001b[0m\u001b[1;33m,\u001b[0m\u001b[0mendmonth\u001b[0m\u001b[1;33m,\u001b[0m\u001b[0mendyear\u001b[0m\u001b[1;33m)\u001b[0m\u001b[1;33m:\u001b[0m\u001b[1;33m\u001b[0m\u001b[1;33m\u001b[0m\u001b[0m\n\u001b[0;32m     22\u001b[0m     \u001b[0mdays\u001b[0m\u001b[1;33m=\u001b[0m\u001b[1;36m0\u001b[0m\u001b[1;33m\u001b[0m\u001b[1;33m\u001b[0m\u001b[0m\n\u001b[1;32m---> 23\u001b[1;33m     \u001b[0mdays\u001b[0m\u001b[1;33m=\u001b[0m\u001b[0mdays\u001b[0m\u001b[1;33m+\u001b[0m\u001b[0mdaysistartyear\u001b[0m\u001b[1;33m(\u001b[0m\u001b[0mstartmonth\u001b[0m\u001b[1;33m,\u001b[0m\u001b[0mstartyear\u001b[0m\u001b[1;33m)\u001b[0m\u001b[1;33m\u001b[0m\u001b[1;33m\u001b[0m\u001b[0m\n\u001b[0m\u001b[0;32m     24\u001b[0m     \u001b[0mdays\u001b[0m\u001b[1;33m=\u001b[0m\u001b[0mdays\u001b[0m\u001b[1;33m+\u001b[0m\u001b[0mdasyinendyear\u001b[0m\u001b[1;33m(\u001b[0m\u001b[0mendmonth\u001b[0m\u001b[1;33m,\u001b[0m\u001b[0mendyear\u001b[0m\u001b[1;33m)\u001b[0m\u001b[1;33m\u001b[0m\u001b[1;33m\u001b[0m\u001b[0m\n\u001b[0;32m     25\u001b[0m     \u001b[1;32mif\u001b[0m \u001b[0mendyear\u001b[0m\u001b[1;33m-\u001b[0m\u001b[0mstartyear\u001b[0m\u001b[1;33m==\u001b[0m\u001b[1;36m2\u001b[0m\u001b[1;33m:\u001b[0m   \u001b[1;31m#\u001b[0m\u001b[1;33m\u001b[0m\u001b[1;33m\u001b[0m\u001b[0m\n",
      "\u001b[1;31mNameError\u001b[0m: name 'daysistartyear' is not defined"
     ]
    }
   ],
   "source": [
    "def numberofdaysmonth(month,year):\n",
    "    if month==2:\n",
    "        if leapyear(year):    \n",
    "             return 29\n",
    "        return 28\n",
    "    elif (month<=7 and month%2!=0) or (month>7 and month%2==0):\n",
    "        return 31\n",
    "    else:\n",
    "        return 30\n",
    "#numberofdaysmonth(4,2019)\n",
    "def daysinstartyear(startmonth,startyear):\n",
    "    days=0\n",
    "    for i in range(startmonth,13):\n",
    "        days=days+numberofdaysmonth(month,startyear)\n",
    "    return days\n",
    "def daysinendyear(endmonth,endyear):\n",
    "    days=0\n",
    "    for i in range(1,endmonth+1):\n",
    "        days=days+numberofdaysmonth(month,endyear)\n",
    "    return days\n",
    "def numberofhours(startmonth,startyear,endmonth,endyear):\n",
    "    days=0\n",
    "    days=days+daysistartyear(startmonth,startyear)\n",
    "    days=days+dasyinendyear(endmonth,endyear)\n",
    "    if endyear-startyear==2:   #\n",
    "        days=days+numberofdays(startyear+1,startyear+1)\n",
    "    elif endyear-startyear>2:\n",
    "        days=days+numberofdays(startyear+1,endyear-1)\n",
    "    return 24*days\n",
    "numberofhours(11,1975,3,1999)"
   ]
  },
  {
   "cell_type": "code",
   "execution_count": null,
   "metadata": {},
   "outputs": [],
   "source": []
  }
 ],
 "metadata": {
  "kernelspec": {
   "display_name": "Python 3",
   "language": "python",
   "name": "python3"
  },
  "language_info": {
   "codemirror_mode": {
    "name": "ipython",
    "version": 3
   },
   "file_extension": ".py",
   "mimetype": "text/x-python",
   "name": "python",
   "nbconvert_exporter": "python",
   "pygments_lexer": "ipython3",
   "version": "3.7.3"
  }
 },
 "nbformat": 4,
 "nbformat_minor": 2
}
