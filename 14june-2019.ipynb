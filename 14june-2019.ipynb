{
 "cells": [
  {
   "cell_type": "markdown",
   "metadata": {},
   "source": [
    "## python data structures\n"
   ]
  },
  {
   "cell_type": "code",
   "execution_count": 31,
   "metadata": {},
   "outputs": [
    {
     "data": {
      "text/plain": [
       "3.5"
      ]
     },
     "execution_count": 31,
     "metadata": {},
     "output_type": "execute_result"
    }
   ],
   "source": [
    "li=[1,\"python\",3,4] #list\n",
    "len(li)\n",
    "li[-1]\n",
    "li[::2]\n",
    "li[1:]\n",
    "li=li[ : :-1]#reversing a list\n",
    "li\n",
    "li=li[::-1]#reversing back to original\n",
    "li\n",
    "li=li[::2]#accessing even index elements\n",
    "li\n",
    "li[::3]#accessing odd index elements\n",
    "#list manipulation\n",
    "    #direct referencing>>>>accessing through[index]\n",
    "    #indirect referencing.... accessing through functions\n",
    "li.append(12)#add element in last\n",
    "li\n",
    "li=[1,\"python\",3,4]\n",
    "li.insert(3,123)#insert into the 3rd place \"list index starting from the zero\"\n",
    "\n",
    "li\n",
    "\n",
    "li.pop()#del last element\n",
    "li\n",
    "li=[1,5,3,2]\n",
    "li.sort()\n",
    "li\n",
    "li.pop(2)\n",
    "li\n",
    "li2=[1,6,7]\n",
    "#merge list2 into list1\n",
    "li.extend(li2)\n",
    "li2\n",
    "sum(li)\n",
    "max(li)\n",
    "li\n",
    "len(li)\n",
    "#avg of list elements\n",
    "l=[1,2,3,4,5,6]\n",
    "avg=sum(l)/len(l)\n",
    "avg"
   ]
  },
  {
   "cell_type": "code",
   "execution_count": 36,
   "metadata": {},
   "outputs": [
    {
     "data": {
      "text/plain": [
       "[1, 4, 4, 10]"
      ]
     },
     "execution_count": 36,
     "metadata": {},
     "output_type": "execute_result"
    }
   ],
   "source": [
    "#avg of all alternate numbers\n",
    "l=[1,2,3,4,4,6,4,8,9,10]\n",
    "l=l[::3]\n",
    "l\n",
    "avg=sum(l)/len(l)\n",
    "avg\n",
    "l"
   ]
  },
  {
   "cell_type": "code",
   "execution_count": 2,
   "metadata": {},
   "outputs": [],
   "source": [
    "#second largest element\n",
    "dir(list)\n",
    "l=[1,2,3,4,4,6,4,8,9]\n"
   ]
  },
  {
   "cell_type": "code",
   "execution_count": 46,
   "metadata": {},
   "outputs": [
    {
     "data": {
      "text/plain": [
       "6"
      ]
     },
     "execution_count": 46,
     "metadata": {},
     "output_type": "execute_result"
    }
   ],
   "source": [
    "def secondlargest(l):\n",
    "    l.sort()\n",
    "    l.pop()\n",
    "    sec=max(l)\n",
    "    return sec\n",
    "    \n",
    "secondlargest([1,4,6,7,4,2])"
   ]
  },
  {
   "cell_type": "code",
   "execution_count": 47,
   "metadata": {},
   "outputs": [
    {
     "data": {
      "text/plain": [
       "4"
      ]
     },
     "execution_count": 47,
     "metadata": {},
     "output_type": "execute_result"
    }
   ],
   "source": [
    "def genericlargest(l,n):\n",
    "    l.sort()\n",
    "    return l[-n]\n",
    "genericlargest([1,3,6,4,2,9],3)\n",
    "    "
   ]
  },
  {
   "cell_type": "code",
   "execution_count": 76,
   "metadata": {},
   "outputs": [
    {
     "data": {
      "text/plain": [
       "-1"
      ]
     },
     "execution_count": 76,
     "metadata": {},
     "output_type": "execute_result"
    }
   ],
   "source": [
    "#function to search for data in a list \n",
    "#search for the key in the list and return index\n",
    "def linearsearch(l,key):\n",
    "    for i in range(0,len(l)):\n",
    "        if(key==l[i]):\n",
    "            return i\n",
    "    print(\"not found\")\n",
    "        \n",
    "linearsearch([1,2,3,4],1)\n",
    "\n",
    "def linearsearch2(l,key):\n",
    "    for i in l:\n",
    "        if i==key:\n",
    "            return l.index(i)\n",
    "    return -1\n",
    "linearsearch2(l,3) \n",
    "\n",
    "\n",
    "def linearsearch3(l,key):\n",
    "    if key in l:\n",
    "        return l.index(key)\n",
    "    return -1\n",
    "linearsearch3(l,123)"
   ]
  },
  {
   "cell_type": "code",
   "execution_count": 89,
   "metadata": {},
   "outputs": [
    {
     "name": "stdout",
     "output_type": "stream",
     "text": [
      "2\n"
     ]
    }
   ],
   "source": [
    "l=[1,2,3,4,4,7,8,9]\n",
    "key=3\n",
    "if key in l:\n",
    "    print(l.index(key))"
   ]
  },
  {
   "cell_type": "code",
   "execution_count": 105,
   "metadata": {},
   "outputs": [
    {
     "data": {
      "text/plain": [
       "2"
      ]
     },
     "execution_count": 105,
     "metadata": {},
     "output_type": "execute_result"
    }
   ],
   "source": [
    "#function to count the occurances of a character in list\n",
    "def countoccurance(li,n):\n",
    "    count=0\n",
    "    for i in li:\n",
    "        if i==n:\n",
    "            count=count+1\n",
    "    return count\n",
    "         \n",
    "            \n",
    "countoccurance([1,2,1,1,2,3,1,3,1,3],3)\n",
    "def countoccurance2(li,n):\n",
    "    return s.count(n)\n",
    "countoccurance([1,2,43,1,2,3,4,3],3)"
   ]
  },
  {
   "cell_type": "code",
   "execution_count": 3,
   "metadata": {},
   "outputs": [],
   "source": []
  },
  {
   "cell_type": "code",
   "execution_count": 7,
   "metadata": {},
   "outputs": [
    {
     "data": {
      "text/plain": [
       "[1, 2, 3, 4, 5, 6]"
      ]
     },
     "execution_count": 7,
     "metadata": {},
     "output_type": "execute_result"
    }
   ],
   "source": [
    "s=\"1 2 3 4 5 6\"\n",
    "li=s.split()\n",
    "numberlist=[]\n",
    "for i in li:\n",
    "    numberlist.append(int(i))\n",
    "numberlist"
   ]
  },
  {
   "cell_type": "markdown",
   "metadata": {},
   "source": [
    "## TASKS\n"
   ]
  },
  {
   "cell_type": "code",
   "execution_count": 2,
   "metadata": {},
   "outputs": [
    {
     "data": {
      "text/plain": [
       "14"
      ]
     },
     "execution_count": 2,
     "metadata": {},
     "output_type": "execute_result"
    }
   ],
   "source": [
    "#task1\n",
    "def squareroot(n):\n",
    "    sum=0\n",
    "    for i in range(1,n+1):\n",
    "        sum=sum+i**2\n",
    "    return sum\n",
    "squareroot(3)"
   ]
  },
  {
   "cell_type": "code",
   "execution_count": 4,
   "metadata": {},
   "outputs": [
    {
     "data": {
      "text/plain": [
       "1"
      ]
     },
     "execution_count": 4,
     "metadata": {},
     "output_type": "execute_result"
    }
   ],
   "source": [
    "#task2\n",
    "def nearestzero(l):\n",
    "    m=min(l)\n",
    "    for i in l:\n",
    "        if i<0 and abs(i) in l:\n",
    "            return abs(i)\n",
    "    return l\n",
    "nearestzero([1,-1,2,5,4])"
   ]
  },
  {
   "cell_type": "code",
   "execution_count": null,
   "metadata": {},
   "outputs": [],
   "source": []
  }
 ],
 "metadata": {
  "kernelspec": {
   "display_name": "Python 3",
   "language": "python",
   "name": "python3"
  },
  "language_info": {
   "codemirror_mode": {
    "name": "ipython",
    "version": 3
   },
   "file_extension": ".py",
   "mimetype": "text/x-python",
   "name": "python",
   "nbconvert_exporter": "python",
   "pygments_lexer": "ipython3",
   "version": "3.7.3"
  }
 },
 "nbformat": 4,
 "nbformat_minor": 2
}
