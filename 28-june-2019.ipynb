{
 "cells": [
  {
   "cell_type": "markdown",
   "metadata": {},
   "source": [
    "### map\n",
    "\n",
    "\n",
    "Mapping - Entity with Function\n",
    "\n",
    "f : x^2 + 3*x + 9\n",
    "\n",
    "x : [1,10]\n",
    "\n",
    "f(x) ->  \n",
    "\n",
    "f(1) -> 13\n",
    "f(2) ->19\n",
    "....\n",
    "....\n",
    "..\n",
    ".\n",
    "\n",
    "y=f(x)\n",
    "\n",
    "x          y\n",
    "1          1\n",
    "2          4\n",
    "3          9\n",
    "4          16\n",
    "\n",
    "\n",
    "map( function, Iterable )\n"
   ]
  },
  {
   "cell_type": "code",
   "execution_count": null,
   "metadata": {},
   "outputs": [],
   "source": [
    "def powerN(a,n):\n",
    "    #return a**n\n",
    "    p=1\n",
    "    for i in range(0,n):\n",
    "        p=p*a\n",
    "    return p\n",
    "#powerN(2,10)\n",
    "def recursivepowerN(a,n):\n",
    "    if n==0:\n",
    "        return 1\n",
    "    else:\n",
    "        return a*recursivepowerN(a,n-1)\n",
    "recursivepowerN(2,10)\n",
    "        "
   ]
  },
  {
   "cell_type": "code",
   "execution_count": null,
   "metadata": {},
   "outputs": [],
   "source": [
    "def cube(n):\n",
    "    return n**3\n",
    "li=[1,2,3,4,5,6]\n",
    "set(map(cube,[2]))\n",
    "    "
   ]
  },
  {
   "cell_type": "code",
   "execution_count": null,
   "metadata": {},
   "outputs": [],
   "source": [
    "def cube(n):\n",
    "    return n**3\n",
    "li=['1','2','3','4','5','6']\n",
    "li2=list(map(int,li))\n",
    "print(li2)\n",
    "list(map(str,li2))\n",
    "list(map(float,li2))\n",
    "#map(float,li2)\n",
    "tuple(map(float,li2))"
   ]
  },
  {
   "cell_type": "markdown",
   "metadata": {},
   "source": [
    "### filter\n",
    "Used to check boolean values\n"
   ]
  },
  {
   "cell_type": "code",
   "execution_count": null,
   "metadata": {},
   "outputs": [],
   "source": [
    "li=[1,2,'a','b','c',3]\n",
    "def isDigit(c):\n",
    "    c=str(c)\n",
    "    if c.isdigit():\n",
    "        return True\n",
    "    return False\n",
    "isDigit('a')\n",
    "list(filter(isDigit,li))"
   ]
  },
  {
   "cell_type": "code",
   "execution_count": null,
   "metadata": {},
   "outputs": [],
   "source": [
    "li=[1,2,'a','b','c',3]\n",
    "def isDigit(c):\n",
    "    c=str(c)\n",
    "    if c.isdigit():\n",
    "        return False\n",
    "    return True\n",
    "isDigit('a')\n",
    "list(filter(isDigit,li))"
   ]
  },
  {
   "cell_type": "code",
   "execution_count": null,
   "metadata": {},
   "outputs": [],
   "source": [
    "li=[1,2,'a','b','c',3]\n",
    "def isDigit(c):\n",
    "    c=str(c)\n",
    "    if c.isdigit():\n",
    "        return -1\n",
    "    return 1\n",
    "   \n",
    "isDigit('a')\n",
    "list(filter(isDigit,li))"
   ]
  },
  {
   "cell_type": "code",
   "execution_count": null,
   "metadata": {},
   "outputs": [],
   "source": [
    "#Identify all primes in range\n",
    "def checkprime(n):\n",
    "\n",
    "    for i in range(2,n//2+1):\n",
    "        if n%i==0:\n",
    "            return False\n",
    "    return True\n",
    "#checkprime(5)\n",
    "lb, ub=500,600\n",
    "primelist=list(filter(checkprime,range(lb,ub)))\n",
    "print(primelist)\n",
    "primelist2=[i for i in range(lb,ub+1) if checkprime(i)]\n",
    "print(primelist2)\n",
    "#map fails because it doesnt apply for checking conditions\n",
    "\n",
    "        "
   ]
  },
  {
   "cell_type": "code",
   "execution_count": null,
   "metadata": {},
   "outputs": [],
   "source": [
    "def cube(n):\n",
    "    return n**3\n",
    "li=['1','2','3','4','5','6']\n",
    "li2=list(map(int,li))\n",
    "tuple(map(float,li2))\n",
    "numbers=[int(i) for i in li]\n",
    "[cube(i) for i in numbers]"
   ]
  },
  {
   "cell_type": "markdown",
   "metadata": {},
   "source": [
    "### lambda\n",
    "\n",
    "ananymous Functions\n",
    "\n",
    "can be embedded into list comprehension , Maps, Filters\n",
    "\n",
    "\n",
    "\n",
    "\n"
   ]
  },
  {
   "cell_type": "code",
   "execution_count": null,
   "metadata": {},
   "outputs": [],
   "source": [
    "a=[lambda x: x%2==0 for x in range(1,11)]\n",
    "a"
   ]
  },
  {
   "cell_type": "code",
   "execution_count": null,
   "metadata": {},
   "outputs": [],
   "source": [
    "a= lambda x:x**3\n",
    "a(3)\n",
    "l=[1,2,3,4,5]\n",
    "list(map(lambda x:x**3,l))\n",
    "list(map(a,l))\n",
    "list(filter(lambda x:(x % 2 == 0),[1,2,3,4,5]))"
   ]
  },
  {
   "cell_type": "code",
   "execution_count": null,
   "metadata": {},
   "outputs": [],
   "source": [
    "list(map(a,l))"
   ]
  },
  {
   "cell_type": "code",
   "execution_count": null,
   "metadata": {},
   "outputs": [],
   "source": [
    "from random import randint\n",
    "marks1=[randint(0,25) for i in range(10)]\n",
    "marks2=[randint(0,25) for i in range(10)]\n",
    "marks3=[randint(0,25) for i in range(10)]\n",
    "\n",
    "avgmarks=list(map(lambda x,y,z: (x+y+z)//3,marks1,marks2,marks3))\n",
    "failedmarkslist=list(map(lambda x:x<15,avgmarks))\n",
    "failedmarkslist\n",
    "#print(avgmarks)"
   ]
  },
  {
   "cell_type": "markdown",
   "metadata": {},
   "source": [
    "### applying Functional programming to the marks analysis application"
   ]
  },
  {
   "cell_type": "code",
   "execution_count": null,
   "metadata": {},
   "outputs": [],
   "source": [
    "# generate marks data\n",
    "from random import randint\n",
    "def generatemarks(n,lb,ub):\n",
    "    filename= \"datafile/marks.txt\"\n",
    "    with open(filename,'w') as f:\n",
    "        for i in range(n):\n",
    "            marks=randint(lb,ub)\n",
    "            f.write(str(marks)+\"\\n\")\n",
    "    return \n",
    "generatemarks(300,0,100)\n",
    "    \n",
    "    "
   ]
  },
  {
   "cell_type": "code",
   "execution_count": null,
   "metadata": {},
   "outputs": [],
   "source": [
    "#% of pass and fail\n",
    "def readmarkslist(filepath):\n",
    "    with open (filepath,\"r\") as f:\n",
    "        filedata=f.read().split()\n",
    "    return list(map(int,filedata))\n",
    "\n",
    "def classaverage(filepath):\n",
    "    #with open(filepath,\"r\") as f:\n",
    "     #   filedata=f.read()\n",
    "        #markslist=re.split('\\n',filepath)\n",
    "        #markslist=list(map(int,markslist))\n",
    "        markslist=readmarkslist(filepath)\n",
    "        return sum(markslist)//len(markslist)\n",
    "filepath=\"datafile/marks.txt\"\n",
    "classaverage(filepath)\n",
    "        "
   ]
  },
  {
   "cell_type": "code",
   "execution_count": null,
   "metadata": {},
   "outputs": [],
   "source": [
    "def parcentagefailed(filepath):\n",
    "    markslist=readmarkslist(filepath)\n",
    "    failedcount=len(list(filter(lambda mark: mark>40,markslist)))\n",
    "    return ((failedcount*100)/len(markslist))\n",
    "filepath=\"datafile/marks.txt\"\n",
    "parcentagefailed(filepath)"
   ]
  },
  {
   "cell_type": "code",
   "execution_count": null,
   "metadata": {},
   "outputs": [],
   "source": [
    "def parcentpassed(filepath):\n",
    "    return 100 - parcentagefailed(filepath)\n",
    "filepath=\"datafile/marks.txt\"\n",
    "parcentpassed(filepath)"
   ]
  },
  {
   "cell_type": "markdown",
   "metadata": {},
   "source": [
    "### Data Encryption\n",
    "\n",
    "Key - apping of characters with some replacing characters\n",
    "\n",
    "one-way-Encryptions : MD5 and MD6 Algorithms\n",
    "\n",
    "0->4\n",
    "1->5\n",
    "2->6\n",
    "3->7\n",
    "4->8\n",
    "5->9\n",
    "6->0\n",
    "7->1\n",
    "8->2\n",
    "9->3\n"
   ]
  },
  {
   "cell_type": "code",
   "execution_count": null,
   "metadata": {},
   "outputs": [],
   "source": [
    "#function to generate key for encryption\n",
    "keypath=\"datafile/marks.txt\"\n",
    "def generatekey(keypath):\n",
    "    with open(keypath,\"w\") as f:\n",
    "        for i in range(10):\n",
    "            if i<6:\n",
    "                f.write(str(i)+ ' '+str(i+4)+'\\n')\n",
    "            else:\n",
    "                f.write(str(i)+ ' '+str(i-6)+'\\n')\n",
    "    return\n",
    "generatekey(keypath)"
   ]
  },
  {
   "cell_type": "code",
   "execution_count": null,
   "metadata": {},
   "outputs": [],
   "source": [
    "#function to encrypt data file\n",
    "\n",
    "def dictionarykeyfile(keyfile):\n",
    "    key={}\n",
    "    with open(keyfile,'r')as f:\n",
    "        for i in f:\n",
    "            line=line.split()\n",
    "            key[line[0]]=line[1]\n",
    "    return key\n",
    "\n",
    "#keypath=\"datafile/marks.txt\"\n",
    "#dictionarykeyfile(keyfile)\n",
    "        \n",
    "def encryptmarksdata(datafile,keyfile):\n",
    "    #construct a dictionary for  key data\n",
    "    key=dictionarykeyfile(keyfile)\n",
    "    with open(datafile,\"r\")as f:\n",
    "        filedata=f.read().split('\\n')\n",
    "    with open(\"datafile/encryptedmarks.txt\",\"w\") as f:\n",
    "        for mark in filedata:\n",
    "            line=''\n",
    "            for n in mark:\n",
    "                line=line+key[n]\n",
    "            f.write(line+'\\n')\n",
    "    return\n",
    "datafile=\"datafile/marks.txt\"\n",
    "keyfile=\"datafile/marks.txt\"\n",
    "encryptmarksdata(datafile,keyfile)"
   ]
  },
  {
   "cell_type": "code",
   "execution_count": null,
   "metadata": {},
   "outputs": [],
   "source": [
    "keyfile = 'datafile/key.txt'\n",
    "def dictionaryKeyFile(keyfile):\n",
    "    key = {}\n",
    "    with open(keyfile, 'r') as f:\n",
    "        for line in f:\n",
    "            line = line.split()\n",
    "            key[line[0]] = line[1]\n",
    "    return key\n",
    "\n",
    "#dictionaryKeyFile(keyfile)\n",
    "def encryptMarksData(datafile, keyfile):\n",
    "    #construct a dictionary for key data\n",
    "    key = dictionaryKeyFile(keyfile)\n",
    "    with open(datafile, 'r') as f:\n",
    "        filedata = f.read().split('\\n')\n",
    "    with open('datafile/encryptedmarks.txt', 'w') as f:\n",
    "        for mark in filedata:\n",
    "            line = ''\n",
    "            for n in mark:\n",
    "                line += key[n]\n",
    "            f.write(line+'\\n')\n",
    "    return\n",
    "datafile = 'datafile/marks.txt'\n",
    "encryptMarksData(datafile, keyfile)"
   ]
  },
  {
   "cell_type": "code",
   "execution_count": null,
   "metadata": {},
   "outputs": [],
   "source": []
  }
 ],
 "metadata": {
  "kernelspec": {
   "display_name": "Python 3",
   "language": "python",
   "name": "python3"
  },
  "language_info": {
   "codemirror_mode": {
    "name": "ipython",
    "version": 3
   },
   "file_extension": ".py",
   "mimetype": "text/x-python",
   "name": "python",
   "nbconvert_exporter": "python",
   "pygments_lexer": "ipython3",
   "version": "3.7.3"
  }
 },
 "nbformat": 4,
 "nbformat_minor": 2
}
