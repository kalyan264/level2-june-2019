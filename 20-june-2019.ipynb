{
 "cells": [
  {
   "cell_type": "markdown",
   "metadata": {},
   "source": [
    "### Regular expressions\n",
    " \n",
    "- Pattern matching\n",
    "- Symbolic Notation of a pattern\n",
    "    - Pattern : Foramt which repeate\n",
    "    - pattern (ER) represents the set of all values\n",
    "- [0-9] -> Any digit\n",
    "- [a-z] -> Any lower case aplhabet\n",
    "- [2468] -> All single digit mutliples of 2s\n",
    "- ^[0-9]{1}$ -> only single digit numbers\n",
    "- ^[0-9]{3}$ -> only three digit numbers\n",
    "- [1-9][0-9]*0$ -> only 10 multiple numbers\n",
    "- [1-9][0-9]*[0 or 5]$ ->only multiple numbers\n",
    "- ^[0-9]{10}$ ->10 digits numbers\n",
    "- ^[a-z1-9A-Z]*@[A-Z]*.com$ -> gmail\n"
   ]
  },
  {
   "cell_type": "code",
   "execution_count": null,
   "metadata": {},
   "outputs": [],
   "source": [
    "#Function to valid phone number or not\n",
    "import re\n",
    "def validphonenumber(n):\n",
    "    pattern=\"^[6-9][0-9]{9}$|^[0][6-9][0-9]{9}$\"\n",
    "    if re.match(pattern,str(n)):\n",
    "        print(\"valid number\")\n",
    "    else:\n",
    "        print(\"invalid number\")\n",
    "n=int(input())\n",
    "validphonenumber(n)\n",
    "        "
   ]
  },
  {
   "cell_type": "code",
   "execution_count": null,
   "metadata": {},
   "outputs": [],
   "source": [
    "#Function to valid phone number or not\n",
    "import re\n",
    "def validphonenumber(n):\n",
    "    pattern=\"^[6-9][0-9]{9}$|^[0][6-9][0-9]{9}$\"\n",
    "    if re.match(pattern,str(n)):\n",
    "        print(\"valid number\")\n",
    "    else:\n",
    "        print(\"invalid number\")\n",
    "n=int(input())\n",
    "validphonenumber(n)\n",
    "        \n",
    "        "
   ]
  },
  {
   "cell_type": "code",
   "execution_count": null,
   "metadata": {},
   "outputs": [],
   "source": [
    "contact={}\n",
    "def addcontact(name,phone):\n",
    "    #verify the contact deosnot already exist\n",
    "    if name not in contact and validphonenumber(phone):\n",
    "        contact[name]=phone\n",
    "    if not validphonenumber(phone):\n",
    "        print(\"phone number is invalid\")\n",
    "   \n",
    "    return\n",
    "addcontact(\"name1\", \"9876543210\")\n",
    "    "
   ]
  },
  {
   "cell_type": "markdown",
   "metadata": {},
   "source": [
    "### File handling in python\n",
    "\n",
    "file-vDocument containing information residing on the permanant storage\n",
    "types- text, pdf, csv etc\n",
    "\n",
    "\n",
    "\n",
    "file I/O--- > channelling I/O data to files\n",
    "Default I/O channels - keyboard/screen\n",
    "\n",
    "\n",
    "change I/O channel to files for reading and writing \n",
    "\n",
    "reading a file- input from file\n",
    "write to a file - output to a file\n",
    "\n",
    "\n",
    "read/write a file - open(filename,mode)\n"
   ]
  },
  {
   "cell_type": "code",
   "execution_count": null,
   "metadata": {},
   "outputs": [],
   "source": [
    "#funciton to read a file\n",
    "def readfile(filename):\n",
    "    f=open(filename,'r')\n",
    "    filedata=f.read()\n",
    "    f.close()\n",
    "    return filedata\n",
    "filename='datafile/data.txt'\n",
    "filedata=readfile(filename)\n",
    "#for line in filedata.split('\\n'):\n",
    " #   print(line)\n",
    "    \n",
    "    \n",
    "def printfiledatalines(filename):\n",
    "    with f=open(filename,'r')as f:\n",
    "        for line in f:\n",
    "            print(line,end=\"\")\n",
    "        return\n",
    "\n",
    "printfiledatalines(filename)"
   ]
  },
  {
   "cell_type": "code",
   "execution_count": 1,
   "metadata": {},
   "outputs": [],
   "source": [
    "#function to write data into a file\n",
    "def writeintofile(filename,filedata):\n",
    "    with open(filename,'w') as f:\n",
    "        f.write(filedata)\n",
    "    return\n",
    "\n",
    "filename='datafile/data.txt'\n",
    "writeintofile(filename,\"new data write in the file\")    "
   ]
  },
  {
   "cell_type": "code",
   "execution_count": 10,
   "metadata": {},
   "outputs": [],
   "source": [
    "#function to append data into a file\n",
    "def appenddatatofile(filename,filedata):\n",
    "     with open(filename,'a') as f:\n",
    "        f.writelines(filedata)\n",
    "     return\n",
    "\n",
    "filename='datafile/data.txt'\n",
    "filedata= [\"line4\",\"line5\"]\n",
    "appenddatatofile(filename,filedata)    \n"
   ]
  },
  {
   "cell_type": "code",
   "execution_count": 1,
   "metadata": {},
   "outputs": [],
   "source": [
    "def appenddatatofile(filename,filedata):\n",
    "     with open(filename,'a') as f:\n",
    "        for line in filedata:\n",
    "            f.write('\\n'+line)\n",
    "     return\n",
    "\n",
    "filename='datafile/data.txt'\n",
    "filedata= [\"kalyan\",\"9948184518\"]\n",
    "appenddatatofile(filename,filedata) "
   ]
  },
  {
   "cell_type": "code",
   "execution_count": null,
   "metadata": {},
   "outputs": [],
   "source": []
  }
 ],
 "metadata": {
  "kernelspec": {
   "display_name": "Python 3",
   "language": "python",
   "name": "python3"
  },
  "language_info": {
   "codemirror_mode": {
    "name": "ipython",
    "version": 3
   },
   "file_extension": ".py",
   "mimetype": "text/x-python",
   "name": "python",
   "nbconvert_exporter": "python",
   "pygments_lexer": "ipython3",
   "version": "3.7.3"
  }
 },
 "nbformat": 4,
 "nbformat_minor": 2
}
