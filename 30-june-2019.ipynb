{
 "cells": [
  {
   "cell_type": "markdown",
   "metadata": {},
   "source": [
    "### Python Library for Data Analysis\n",
    "### Pandas - Data Analysis\n",
    "\n",
    "- Series Object - one-dimensional data\n",
    "- DataFrame Object - two-dimensional data\n",
    "- Reading Data from CSV files into DataFrames\n",
    "- Processing/Accessing DataFrames\n",
    "    - Columns\n",
    "    - Rows\n",
    "- Updating DataFrames\n",
    "- Writing DataFrame back to CSV files"
   ]
  },
  {
   "cell_type": "code",
   "execution_count": 2,
   "metadata": {},
   "outputs": [
    {
     "data": {
      "text/html": [
       "<div>\n",
       "<style scoped>\n",
       "    .dataframe tbody tr th:only-of-type {\n",
       "        vertical-align: middle;\n",
       "    }\n",
       "\n",
       "    .dataframe tbody tr th {\n",
       "        vertical-align: top;\n",
       "    }\n",
       "\n",
       "    .dataframe thead th {\n",
       "        text-align: right;\n",
       "    }\n",
       "</style>\n",
       "<table border=\"1\" class=\"dataframe\">\n",
       "  <thead>\n",
       "    <tr style=\"text-align: right;\">\n",
       "      <th></th>\n",
       "      <th>GEOID</th>\n",
       "      <th>State</th>\n",
       "      <th>2005</th>\n",
       "      <th>2006</th>\n",
       "      <th>2007</th>\n",
       "      <th>2008</th>\n",
       "      <th>2009</th>\n",
       "      <th>2010</th>\n",
       "      <th>2011</th>\n",
       "      <th>2012</th>\n",
       "      <th>2013</th>\n",
       "    </tr>\n",
       "  </thead>\n",
       "  <tbody>\n",
       "    <tr>\n",
       "      <th>0</th>\n",
       "      <td>04000US01</td>\n",
       "      <td>Alabama</td>\n",
       "      <td>37150</td>\n",
       "      <td>37952</td>\n",
       "      <td>42212</td>\n",
       "      <td>44476</td>\n",
       "      <td>39980</td>\n",
       "      <td>40933</td>\n",
       "      <td>42590</td>\n",
       "      <td>43464</td>\n",
       "      <td>41381</td>\n",
       "    </tr>\n",
       "    <tr>\n",
       "      <th>1</th>\n",
       "      <td>04000US02</td>\n",
       "      <td>Alaska</td>\n",
       "      <td>55891</td>\n",
       "      <td>56418</td>\n",
       "      <td>62993</td>\n",
       "      <td>63989</td>\n",
       "      <td>61604</td>\n",
       "      <td>57848</td>\n",
       "      <td>57431</td>\n",
       "      <td>63648</td>\n",
       "      <td>61137</td>\n",
       "    </tr>\n",
       "    <tr>\n",
       "      <th>2</th>\n",
       "      <td>04000US04</td>\n",
       "      <td>Arizona</td>\n",
       "      <td>45245</td>\n",
       "      <td>46657</td>\n",
       "      <td>62555</td>\n",
       "      <td>46914</td>\n",
       "      <td>45739</td>\n",
       "      <td>46896</td>\n",
       "      <td>48621</td>\n",
       "      <td>47044</td>\n",
       "      <td>50602</td>\n",
       "    </tr>\n",
       "    <tr>\n",
       "      <th>3</th>\n",
       "      <td>04000US05</td>\n",
       "      <td>Arkansas</td>\n",
       "      <td>36658</td>\n",
       "      <td>37057</td>\n",
       "      <td>40795</td>\n",
       "      <td>39586</td>\n",
       "      <td>36538</td>\n",
       "      <td>38587</td>\n",
       "      <td>41302</td>\n",
       "      <td>39018</td>\n",
       "      <td>39919</td>\n",
       "    </tr>\n",
       "    <tr>\n",
       "      <th>4</th>\n",
       "      <td>04000US06</td>\n",
       "      <td>California</td>\n",
       "      <td>51755</td>\n",
       "      <td>55319</td>\n",
       "      <td>55734</td>\n",
       "      <td>57014</td>\n",
       "      <td>56134</td>\n",
       "      <td>54283</td>\n",
       "      <td>53367</td>\n",
       "      <td>57020</td>\n",
       "      <td>57528</td>\n",
       "    </tr>\n",
       "  </tbody>\n",
       "</table>\n",
       "</div>"
      ],
      "text/plain": [
       "       GEOID       State   2005   2006   2007   2008   2009   2010   2011  \\\n",
       "0  04000US01     Alabama  37150  37952  42212  44476  39980  40933  42590   \n",
       "1  04000US02      Alaska  55891  56418  62993  63989  61604  57848  57431   \n",
       "2  04000US04     Arizona  45245  46657  62555  46914  45739  46896  48621   \n",
       "3  04000US05    Arkansas  36658  37057  40795  39586  36538  38587  41302   \n",
       "4  04000US06  California  51755  55319  55734  57014  56134  54283  53367   \n",
       "\n",
       "    2012   2013  \n",
       "0  43464  41381  \n",
       "1  63648  61137  \n",
       "2  47044  50602  \n",
       "3  39018  39919  \n",
       "4  57020  57528  "
      ]
     },
     "execution_count": 2,
     "metadata": {},
     "output_type": "execute_result"
    }
   ],
   "source": [
    "filepath = 'datafile/income.csv'\n",
    "import pandas as pd\n",
    "def readCSVdata(filepath):\n",
    "    return pd.read_csv(filepath)\n",
    "\n",
    "readCSVdata(filepath)"
   ]
  },
  {
   "cell_type": "code",
   "execution_count": null,
   "metadata": {},
   "outputs": [],
   "source": [
    "s=4\n",
    "e=7\n",
    "while(s<e):\n",
    "    for i in incomedf.values:\n",
    "        print(i[s],end=\" \")\n",
    "    print(\"\\n\")\n",
    "    s=s+1"
   ]
  },
  {
   "cell_type": "code",
   "execution_count": 2,
   "metadata": {},
   "outputs": [
    {
     "name": "stdout",
     "output_type": "stream",
     "text": [
      "GEOID State 2005 2006 2007 2008 2009 2010 2011 2012 2013 "
     ]
    }
   ],
   "source": [
    "incomedf = readCSVdata(filepath)\n",
    "\n",
    "# Function to print all column names in a single line\n",
    "# GEOID State 2005 2006 2007 2008 2009 2010 2011 2012 2013\n",
    "\n",
    "def printDataFrameColumns(df):\n",
    "    columns = df.columns\n",
    "    for column in columns:\n",
    "        print(column, end=' ')\n",
    "    return\n",
    "\n",
    "printDataFrameColumns(incomedf)"
   ]
  },
  {
   "cell_type": "code",
   "execution_count": null,
   "metadata": {},
   "outputs": [],
   "source": [
    "l=[]\n",
    "l.append(incomedf.iloc[[3],[2,3,4,5,6,7,8,9,10]])\n",
    "l=str(l)\n",
    "#incomedf.iloc[[1, 2, 4], [0, 2]]"
   ]
  },
  {
   "cell_type": "code",
   "execution_count": null,
   "metadata": {},
   "outputs": [],
   "source": [
    "# Function to access a row based on a unique column value\n",
    "\n",
    "def accessDataFrameRow(df, key):\n",
    "    \n",
    "    for row in df.values:\n",
    "        if key in row:\n",
    "            for item in row:\n",
    "                print(item, end=' ')\n",
    "            print('\\n')\n",
    "    return\n",
    "\n",
    "accessDataFrameRow(incomedf, '04000US06')"
   ]
  },
  {
   "cell_type": "code",
   "execution_count": null,
   "metadata": {},
   "outputs": [],
   "source": [
    "incomedf.2005"
   ]
  },
  {
   "cell_type": "code",
   "execution_count": null,
   "metadata": {},
   "outputs": [],
   "source": [
    "# Accessing a unique value based on row, column info\n",
    "# Income of a state in a given year\n",
    "def getRowIndex(df, rowkey):\n",
    "    for i in range(len(df.values)):\n",
    "        if df.values[i][0] == rowkey or df.values[i][1] == rowkey:\n",
    "            rowindex = i\n",
    "    return rowindex\n",
    "getRowIndex(incomedf,\"Arizona\")\n",
    "# def getColumnIndex(df, columnkey):\n",
    "#     for i in range(len(df.columns)):\n",
    "#         if df.columns[i] == columnkey:\n",
    "#             columnindex = i\n",
    "#     return columnindex\n",
    "\n",
    "# def valueFromRowColumn(df, rowkey, columnkey):\n",
    "#     rowindex = getRowIndex(df, rowkey)\n",
    "#     columnindex = getColumnIndex(df, columnkey)\n",
    "#     return df.values[rowindex][columnindex]\n",
    "\n",
    "# valueFromRowColumn(incomedf, 'California', '2009')"
   ]
  },
  {
   "cell_type": "code",
   "execution_count": null,
   "metadata": {},
   "outputs": [],
   "source": [
    "# Function to update data based on rowkey and columnkey\n",
    "\n",
    "def updateDataCellFromRowColumn(df, rowkey, columnkey, newdata):\n",
    "    rowindex = getRowIndex(df, rowkey)\n",
    "    columnindex = getColumnIndex(df, columnkey)\n",
    "    row = df.values[rowindex]\n",
    "    row[columnindex] = newdata\n",
    "    df.loc[rowindex] = row\n",
    "    return\n",
    "\n",
    "updateDataCellFromRowColumn(incomedf, 'Arizona', '2007', 62555)\n",
    "incomedf"
   ]
  },
  {
   "cell_type": "code",
   "execution_count": null,
   "metadata": {},
   "outputs": [],
   "source": [
    "l=[]\n",
    "l.append(accessDataFrameRow(incomedf, 62555))\n",
    "l\n"
   ]
  },
  {
   "cell_type": "code",
   "execution_count": null,
   "metadata": {},
   "outputs": [],
   "source": [
    "\n",
    "# Function to write DataFrame to CSV\n",
    "\n",
    "incomedf.to_csv(filepath, index=False)"
   ]
  },
  {
   "cell_type": "code",
   "execution_count": null,
   "metadata": {},
   "outputs": [],
   "source": [
    "# Function to add a new row of data to DataFrame\n",
    "\n",
    "def addRowDataDataFrame(df, rowdata):\n",
    "    lastrowindex = len(df.values)-1\n",
    "    df.loc[lastrowindex+1] = rowdata\n",
    "    return\n",
    "\n",
    "rowdata = [1,2,3,4,5,56,13,14,313,12,0]\n",
    "addRowDataDataFrame(incomedf, rowdata)\n",
    "incomedf"
   ]
  },
  {
   "cell_type": "code",
   "execution_count": null,
   "metadata": {},
   "outputs": [],
   "source": [
    "# Function to delete a row in a DataFrame\n",
    "\n",
    "def deleteRowDataFrame(df, rowkey):\n",
    "    rowindex = getRowIndex(df, rowkey)\n",
    "    return df.drop(rowindex) \n",
    "\n",
    "incomedf = deleteRowDataFrame(incomedf, 1)\n",
    "incomedf"
   ]
  },
  {
   "cell_type": "markdown",
   "metadata": {},
   "source": [
    "df.values"
   ]
  },
  {
   "cell_type": "code",
   "execution_count": 7,
   "metadata": {},
   "outputs": [
    {
     "data": {
      "text/html": [
       "<div>\n",
       "<style scoped>\n",
       "    .dataframe tbody tr th:only-of-type {\n",
       "        vertical-align: middle;\n",
       "    }\n",
       "\n",
       "    .dataframe tbody tr th {\n",
       "        vertical-align: top;\n",
       "    }\n",
       "\n",
       "    .dataframe thead th {\n",
       "        text-align: right;\n",
       "    }\n",
       "</style>\n",
       "<table border=\"1\" class=\"dataframe\">\n",
       "  <thead>\n",
       "    <tr style=\"text-align: right;\">\n",
       "      <th></th>\n",
       "      <th>GEOID</th>\n",
       "      <th>State</th>\n",
       "      <th>2005</th>\n",
       "      <th>2006</th>\n",
       "      <th>2007</th>\n",
       "      <th>2008</th>\n",
       "      <th>2009</th>\n",
       "      <th>2010</th>\n",
       "      <th>2011</th>\n",
       "      <th>2012</th>\n",
       "      <th>2013</th>\n",
       "    </tr>\n",
       "  </thead>\n",
       "  <tbody>\n",
       "    <tr>\n",
       "      <th>0</th>\n",
       "      <td>04000US01</td>\n",
       "      <td>Alabama</td>\n",
       "      <td>37150</td>\n",
       "      <td>37952</td>\n",
       "      <td>42212</td>\n",
       "      <td>44476</td>\n",
       "      <td>39980</td>\n",
       "      <td>40933</td>\n",
       "      <td>42590</td>\n",
       "      <td>43464</td>\n",
       "      <td>41381</td>\n",
       "    </tr>\n",
       "    <tr>\n",
       "      <th>1</th>\n",
       "      <td>04000US02</td>\n",
       "      <td>Alaska</td>\n",
       "      <td>55891</td>\n",
       "      <td>56418</td>\n",
       "      <td>62993</td>\n",
       "      <td>63989</td>\n",
       "      <td>61604</td>\n",
       "      <td>57848</td>\n",
       "      <td>57431</td>\n",
       "      <td>63648</td>\n",
       "      <td>61137</td>\n",
       "    </tr>\n",
       "    <tr>\n",
       "      <th>2</th>\n",
       "      <td>04000US04</td>\n",
       "      <td>Arizona</td>\n",
       "      <td>45245</td>\n",
       "      <td>46657</td>\n",
       "      <td>62555</td>\n",
       "      <td>46914</td>\n",
       "      <td>45739</td>\n",
       "      <td>46896</td>\n",
       "      <td>48621</td>\n",
       "      <td>47044</td>\n",
       "      <td>50602</td>\n",
       "    </tr>\n",
       "    <tr>\n",
       "      <th>3</th>\n",
       "      <td>04000US05</td>\n",
       "      <td>Arkansas</td>\n",
       "      <td>36658</td>\n",
       "      <td>37057</td>\n",
       "      <td>40795</td>\n",
       "      <td>39586</td>\n",
       "      <td>36538</td>\n",
       "      <td>38587</td>\n",
       "      <td>41302</td>\n",
       "      <td>39018</td>\n",
       "      <td>39919</td>\n",
       "    </tr>\n",
       "    <tr>\n",
       "      <th>4</th>\n",
       "      <td>04000US06</td>\n",
       "      <td>California</td>\n",
       "      <td>51755</td>\n",
       "      <td>55319</td>\n",
       "      <td>55734</td>\n",
       "      <td>57014</td>\n",
       "      <td>56134</td>\n",
       "      <td>54283</td>\n",
       "      <td>53367</td>\n",
       "      <td>57020</td>\n",
       "      <td>57528</td>\n",
       "    </tr>\n",
       "  </tbody>\n",
       "</table>\n",
       "</div>"
      ],
      "text/plain": [
       "       GEOID       State   2005   2006   2007   2008   2009   2010   2011  \\\n",
       "0  04000US01     Alabama  37150  37952  42212  44476  39980  40933  42590   \n",
       "1  04000US02      Alaska  55891  56418  62993  63989  61604  57848  57431   \n",
       "2  04000US04     Arizona  45245  46657  62555  46914  45739  46896  48621   \n",
       "3  04000US05    Arkansas  36658  37057  40795  39586  36538  38587  41302   \n",
       "4  04000US06  California  51755  55319  55734  57014  56134  54283  53367   \n",
       "\n",
       "    2012   2013  \n",
       "0  43464  41381  \n",
       "1  63648  61137  \n",
       "2  47044  50602  \n",
       "3  39018  39919  \n",
       "4  57020  57528  "
      ]
     },
     "execution_count": 7,
     "metadata": {},
     "output_type": "execute_result"
    }
   ],
   "source": [
    "incomedf"
   ]
  },
  {
   "cell_type": "code",
   "execution_count": 45,
   "metadata": {},
   "outputs": [
    {
     "name": "stdout",
     "output_type": "stream",
     "text": [
      "47580\n"
     ]
    }
   ],
   "source": [
    "#1.combined average income of all states from 2005 to 2013\n",
    "def avgstate(df):\n",
    "    s=0\n",
    "    avg=0\n",
    "    s1=0\n",
    "    c=0\n",
    "    c1=0\n",
    "    l=[]\n",
    "    for i in range(0,5):\n",
    "        for j in range(2,11):\n",
    "            s=s+incomedf.values[i][j]\n",
    "            c=c+1\n",
    "        avg=(s//c)\n",
    "        l.append(avg)\n",
    "    a= sum(l)//len(l)\n",
    "    print(a)\n",
    "#     for i in l:\n",
    "#         s1=s1+i\n",
    "#         c1=c1+1\n",
    "#     print(s1//c1)\n",
    "avgstate(incomedf)\n",
    "    \n",
    "    \n",
    "    "
   ]
  },
  {
   "cell_type": "code",
   "execution_count": 6,
   "metadata": {},
   "outputs": [
    {
     "name": "stdout",
     "output_type": "stream",
     "text": [
      "Alabama : 42478\n",
      "Alaska : 51608\n",
      "Arizona : 50657\n",
      "Arkansas : 48013\n",
      "California : 49604\n"
     ]
    }
   ],
   "source": [
    "#2.function to state with highest avg income in the last 3 years\n",
    "def last3yearsavg(df):\n",
    "    s=0\n",
    "    c=0\n",
    "    for i in range(0,5):\n",
    "        for j in range(8,11):\n",
    "            s=s+incomedf.values[i][j]\n",
    "            c=c+1\n",
    "        avg=(s//c)\n",
    "        print(incomedf.values[i][1],\":\",avg)\n",
    "last3yearsavg(incomedf)"
   ]
  },
  {
   "cell_type": "code",
   "execution_count": 14,
   "metadata": {},
   "outputs": [
    {
     "name": "stdout",
     "output_type": "stream",
     "text": [
      "[41900, 51754, 51344, 48227, 49740]\n",
      "41900\n"
     ]
    }
   ],
   "source": [
    "#state with lowest avg income from 2007 to 2010\n",
    "def lowestavgincome(df):\n",
    "    s=0\n",
    "    c=0\n",
    "    l=[]\n",
    "    for i in range(0,5):\n",
    "        for j in range(4,8):\n",
    "            s=s+incomedf.values[i][j]\n",
    "            c=c+1\n",
    "        avg=s//c\n",
    "        #print(avg)\n",
    "        l.append(avg)\n",
    "    print(l)\n",
    "    print(min(l))\n",
    "lowestavgincome(incomedf)\n",
    "    \n",
    "    "
   ]
  },
  {
   "cell_type": "code",
   "execution_count": 24,
   "metadata": {},
   "outputs": [
    {
     "name": "stdout",
     "output_type": "stream",
     "text": [
      "Alabama : 41126\n",
      "Alaska : 50616\n",
      "Arizona : 50050\n",
      "Arkansas : 47245\n",
      "California : 48866\n",
      "[41126, 50616, 50050, 47245, 48866]\n",
      "these states incomes are less than california income 41126\n",
      "these states incomes are less than california income 47245\n"
     ]
    }
   ],
   "source": [
    "#4.print the list of all states in the same line with avg income less than california\n",
    "def lessthancalifornia(df):\n",
    "    s=0\n",
    "    c=0\n",
    "    l=[]\n",
    "    for i in range(0,5):\n",
    "        for j in range(2,11):\n",
    "            s=s+incomedf.values[i][j]\n",
    "            c=c+1\n",
    "        avg=(s//c)\n",
    "        l.append(avg)\n",
    "        print(incomedf.values[i][1],\":\",avg)\n",
    "    print(l)\n",
    "    s=48866\n",
    "    for i in range(0,5):\n",
    "        if l[i]<48866:\n",
    "            print(\"these incomes are less than california income\",l[i])\n",
    "lessthancalifornia(incomedf)"
   ]
  },
  {
   "cell_type": "code",
   "execution_count": 47,
   "metadata": {},
   "outputs": [
    {
     "name": "stdout",
     "output_type": "stream",
     "text": [
      "0    39980\n",
      "1    61604\n",
      "2    45739\n",
      "3    36538\n",
      "4    56134\n",
      "Name: 2009, dtype: int64\n",
      "Alabama : 39980\n",
      "Alaska : 61604\n",
      "Arizona : 45739\n",
      "Arkansas : 36538\n",
      "California : 56134\n"
     ]
    },
    {
     "data": {
      "text/plain": [
       "[36538, 39980, 45739, 56134, 61604]"
      ]
     },
     "execution_count": 47,
     "metadata": {},
     "output_type": "execute_result"
    }
   ],
   "source": [
    "#print the names of states based on descendong order of income in the year 2009\n",
    "l=incomedf['2009']\n",
    "print(l)\n",
    "#sorted(l)\n",
    "for i in range(0,5):\n",
    "    print(incomedf.values[i][1],\":\",l[i])\n",
    "sorted(l)"
   ]
  },
  {
   "cell_type": "code",
   "execution_count": 44,
   "metadata": {},
   "outputs": [
    {
     "name": "stdout",
     "output_type": "stream",
     "text": [
      "[37150, 37952, 42212, 44476, 39980, 40933, 42590, 43464, 41381, 55891, 56418, 62993, 63989, 61604, 57848, 57431, 63648, 61137, 45245, 46657, 62555, 46914, 45739, 46896, 48621, 47044, 50602, 36658, 37057, 40795, 39586, 36538, 38587, 41302, 39018, 39919, 51755, 55319, 55734, 57014, 56134, 54283, 53367, 57020, 57528]\n",
      "36538\n"
     ]
    }
   ],
   "source": [
    "#state with lowest recorded income from 2005 to 2013\n",
    "def lowestIncome(df):\n",
    "    l=[]\n",
    "    for i in range(0,5):\n",
    "        for j in range(2,11):\n",
    "            l.append(df.values[i][j])\n",
    "    print(l)\n",
    "    print(min(l))\n",
    "    \n",
    "lowestIncome(incomedf)"
   ]
  },
  {
   "cell_type": "code",
   "execution_count": null,
   "metadata": {},
   "outputs": [],
   "source": []
  }
 ],
 "metadata": {
  "kernelspec": {
   "display_name": "Python 3",
   "language": "python",
   "name": "python3"
  },
  "language_info": {
   "codemirror_mode": {
    "name": "ipython",
    "version": 3
   },
   "file_extension": ".py",
   "mimetype": "text/x-python",
   "name": "python",
   "nbconvert_exporter": "python",
   "pygments_lexer": "ipython3",
   "version": "3.7.3"
  }
 },
 "nbformat": 4,
 "nbformat_minor": 2
}
